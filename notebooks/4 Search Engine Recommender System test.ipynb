{
 "cells": [
  {
   "cell_type": "code",
   "execution_count": 1,
   "id": "583bc719",
   "metadata": {},
   "outputs": [
    {
     "data": {
      "text/html": [
       "<div>\n",
       "<style scoped>\n",
       "    .dataframe tbody tr th:only-of-type {\n",
       "        vertical-align: middle;\n",
       "    }\n",
       "\n",
       "    .dataframe tbody tr th {\n",
       "        vertical-align: top;\n",
       "    }\n",
       "\n",
       "    .dataframe thead th {\n",
       "        text-align: right;\n",
       "    }\n",
       "</style>\n",
       "<table border=\"1\" class=\"dataframe\">\n",
       "  <thead>\n",
       "    <tr style=\"text-align: right;\">\n",
       "      <th></th>\n",
       "      <th>problem</th>\n",
       "      <th>level</th>\n",
       "      <th>type</th>\n",
       "      <th>solution</th>\n",
       "      <th>id</th>\n",
       "      <th>source</th>\n",
       "      <th>category</th>\n",
       "    </tr>\n",
       "  </thead>\n",
       "  <tbody>\n",
       "    <tr>\n",
       "      <th>0</th>\n",
       "      <td>Find the positive base $b$ in which the equati...</td>\n",
       "      <td>Level 4</td>\n",
       "      <td>Number Theory</td>\n",
       "      <td>When we rewrite the above equation with the ba...</td>\n",
       "      <td>number_theory_1004</td>\n",
       "      <td>test</td>\n",
       "      <td>4</td>\n",
       "    </tr>\n",
       "    <tr>\n",
       "      <th>1</th>\n",
       "      <td>There are eight boys and six girls who are mem...</td>\n",
       "      <td>Level 3</td>\n",
       "      <td>Counting &amp; Probability</td>\n",
       "      <td>First, we consider how many ways there are to ...</td>\n",
       "      <td>counting_and_probability_682</td>\n",
       "      <td>test</td>\n",
       "      <td>1</td>\n",
       "    </tr>\n",
       "    <tr>\n",
       "      <th>2</th>\n",
       "      <td>What is the domain of the function $g(x) = \\fr...</td>\n",
       "      <td>Level 1</td>\n",
       "      <td>Intermediate Algebra</td>\n",
       "      <td>The formula for $g(x)$ has a defined value unl...</td>\n",
       "      <td>intermediate_algebra_1317</td>\n",
       "      <td>train</td>\n",
       "      <td>3</td>\n",
       "    </tr>\n",
       "    <tr>\n",
       "      <th>3</th>\n",
       "      <td>A standard deck of 52 cards has 13 ranks (Ace,...</td>\n",
       "      <td>Level 3</td>\n",
       "      <td>Prealgebra</td>\n",
       "      <td>There are $3 \\times 4 = 12$ face cards and 52 ...</td>\n",
       "      <td>prealgebra_1079</td>\n",
       "      <td>test</td>\n",
       "      <td>5</td>\n",
       "    </tr>\n",
       "    <tr>\n",
       "      <th>4</th>\n",
       "      <td>The two endpoints of a segment are at $(1,4)$ ...</td>\n",
       "      <td>Level 1</td>\n",
       "      <td>Algebra</td>\n",
       "      <td>The midpoint of the segment is at $\\left(\\frac...</td>\n",
       "      <td>algebra_1025</td>\n",
       "      <td>test</td>\n",
       "      <td>0</td>\n",
       "    </tr>\n",
       "    <tr>\n",
       "      <th>...</th>\n",
       "      <td>...</td>\n",
       "      <td>...</td>\n",
       "      <td>...</td>\n",
       "      <td>...</td>\n",
       "      <td>...</td>\n",
       "      <td>...</td>\n",
       "      <td>...</td>\n",
       "    </tr>\n",
       "    <tr>\n",
       "      <th>9995</th>\n",
       "      <td>Given that 0.5 liters is approximately 1.05 pi...</td>\n",
       "      <td>Level 3</td>\n",
       "      <td>Prealgebra</td>\n",
       "      <td>If half a liter is 1.05 pints, then a whole li...</td>\n",
       "      <td>prealgebra_532</td>\n",
       "      <td>train</td>\n",
       "      <td>5</td>\n",
       "    </tr>\n",
       "    <tr>\n",
       "      <th>9996</th>\n",
       "      <td>In the figure shown, $AC=13$ and $DC=2$ units....</td>\n",
       "      <td>Level 4</td>\n",
       "      <td>Geometry</td>\n",
       "      <td>Since $AC=AD+DC=13$ and $DC=2$, $AD=11$. We al...</td>\n",
       "      <td>geometry_953</td>\n",
       "      <td>test</td>\n",
       "      <td>2</td>\n",
       "    </tr>\n",
       "    <tr>\n",
       "      <th>9997</th>\n",
       "      <td>There are eight furlongs in a mile. There are ...</td>\n",
       "      <td>Level 4</td>\n",
       "      <td>Prealgebra</td>\n",
       "      <td>We have  \\[\\n14\\text{ days} = 1 \\text{ fortnig...</td>\n",
       "      <td>prealgebra_1260</td>\n",
       "      <td>test</td>\n",
       "      <td>5</td>\n",
       "    </tr>\n",
       "    <tr>\n",
       "      <th>9998</th>\n",
       "      <td>If a rectangular prism has a length of $l$, a ...</td>\n",
       "      <td>Level 2</td>\n",
       "      <td>Algebra</td>\n",
       "      <td>We are given that $$\\sqrt{l^2 + w^2 + h^2} = \\...</td>\n",
       "      <td>algebra_676</td>\n",
       "      <td>train</td>\n",
       "      <td>0</td>\n",
       "    </tr>\n",
       "    <tr>\n",
       "      <th>9999</th>\n",
       "      <td>What is the largest possible median for the fi...</td>\n",
       "      <td>Level 3</td>\n",
       "      <td>Prealgebra</td>\n",
       "      <td>The median is the number in the set with half ...</td>\n",
       "      <td>prealgebra_1382</td>\n",
       "      <td>train</td>\n",
       "      <td>5</td>\n",
       "    </tr>\n",
       "  </tbody>\n",
       "</table>\n",
       "<p>10000 rows × 7 columns</p>\n",
       "</div>"
      ],
      "text/plain": [
       "                                                problem    level  \\\n",
       "0     Find the positive base $b$ in which the equati...  Level 4   \n",
       "1     There are eight boys and six girls who are mem...  Level 3   \n",
       "2     What is the domain of the function $g(x) = \\fr...  Level 1   \n",
       "3     A standard deck of 52 cards has 13 ranks (Ace,...  Level 3   \n",
       "4     The two endpoints of a segment are at $(1,4)$ ...  Level 1   \n",
       "...                                                 ...      ...   \n",
       "9995  Given that 0.5 liters is approximately 1.05 pi...  Level 3   \n",
       "9996  In the figure shown, $AC=13$ and $DC=2$ units....  Level 4   \n",
       "9997  There are eight furlongs in a mile. There are ...  Level 4   \n",
       "9998  If a rectangular prism has a length of $l$, a ...  Level 2   \n",
       "9999  What is the largest possible median for the fi...  Level 3   \n",
       "\n",
       "                        type  \\\n",
       "0              Number Theory   \n",
       "1     Counting & Probability   \n",
       "2       Intermediate Algebra   \n",
       "3                 Prealgebra   \n",
       "4                    Algebra   \n",
       "...                      ...   \n",
       "9995              Prealgebra   \n",
       "9996                Geometry   \n",
       "9997              Prealgebra   \n",
       "9998                 Algebra   \n",
       "9999              Prealgebra   \n",
       "\n",
       "                                               solution  \\\n",
       "0     When we rewrite the above equation with the ba...   \n",
       "1     First, we consider how many ways there are to ...   \n",
       "2     The formula for $g(x)$ has a defined value unl...   \n",
       "3     There are $3 \\times 4 = 12$ face cards and 52 ...   \n",
       "4     The midpoint of the segment is at $\\left(\\frac...   \n",
       "...                                                 ...   \n",
       "9995  If half a liter is 1.05 pints, then a whole li...   \n",
       "9996  Since $AC=AD+DC=13$ and $DC=2$, $AD=11$. We al...   \n",
       "9997  We have  \\[\\n14\\text{ days} = 1 \\text{ fortnig...   \n",
       "9998  We are given that $$\\sqrt{l^2 + w^2 + h^2} = \\...   \n",
       "9999  The median is the number in the set with half ...   \n",
       "\n",
       "                                id source  category  \n",
       "0               number_theory_1004   test         4  \n",
       "1     counting_and_probability_682   test         1  \n",
       "2        intermediate_algebra_1317  train         3  \n",
       "3                  prealgebra_1079   test         5  \n",
       "4                     algebra_1025   test         0  \n",
       "...                            ...    ...       ...  \n",
       "9995                prealgebra_532  train         5  \n",
       "9996                  geometry_953   test         2  \n",
       "9997               prealgebra_1260   test         5  \n",
       "9998                   algebra_676  train         0  \n",
       "9999               prealgebra_1382  train         5  \n",
       "\n",
       "[10000 rows x 7 columns]"
      ]
     },
     "execution_count": 1,
     "metadata": {},
     "output_type": "execute_result"
    }
   ],
   "source": [
    "import pandas as pd\n",
    "\n",
    "dataset = pd.read_parquet(\"../dataset/train_math_exercice.parquet\")\n",
    "dataset"
   ]
  },
  {
   "cell_type": "code",
   "execution_count": 2,
   "id": "dc715168",
   "metadata": {},
   "outputs": [
    {
     "data": {
      "text/plain": [
       "SentenceTransformer(\n",
       "  (0): Transformer({'max_seq_length': 128, 'do_lower_case': False}) with Transformer model: DistilBertModel \n",
       "  (1): Pooling({'word_embedding_dimension': 768, 'pooling_mode_cls_token': False, 'pooling_mode_mean_tokens': True, 'pooling_mode_max_tokens': False, 'pooling_mode_mean_sqrt_len_tokens': False})\n",
       "  (2): Dense({'in_features': 768, 'out_features': 512, 'bias': True, 'activation_function': 'torch.nn.modules.activation.Tanh'})\n",
       ")"
      ]
     },
     "execution_count": 2,
     "metadata": {},
     "output_type": "execute_result"
    }
   ],
   "source": [
    "from sentence_transformers import SentenceTransformer\n",
    "\n",
    "pretrained_model = SentenceTransformer(\"sentence-transformers/distiluse-base-multilingual-cased-v1\", device='cuda')\n",
    "pretrained_model.to('cuda')\n",
    "pretrained_model"
   ]
  },
  {
   "cell_type": "code",
   "execution_count": 3,
   "id": "9e0b98ae",
   "metadata": {},
   "outputs": [],
   "source": [
    "import numpy as np\n",
    "from scipy.spatial.distance import cosine\n",
    "\n",
    "def cosine_similarity(vec_a, vec_b) -> float:\n",
    "        return 1 - cosine(\n",
    "            np.array(vec_a).reshape(1, -1)[0],\n",
    "            np.array(vec_b).reshape(1, -1)[0],\n",
    "        )\n",
    "\n",
    "def get_scores(dataset, embedding_column=\"sentence_embedding\"):\n",
    "\n",
    "    identical_category_scores = []\n",
    "    different_category_scores = []\n",
    "\n",
    "    for i, sample in dataset.iterrows():\n",
    "        cat = sample['category']\n",
    "\n",
    "        pos_example = dataset.loc[dataset['category']==cat].sample(n=1).iloc[0]\n",
    "        identical_category_scores.append(cosine_similarity(sample[embedding_column], pos_example[embedding_column]))\n",
    "\n",
    "        neg_example = dataset.loc[dataset['category']!=cat].sample(n=1).iloc[0]\n",
    "        different_category_scores.append(cosine_similarity(sample[embedding_column], neg_example[embedding_column]))\n",
    "        \n",
    "    return identical_category_scores, different_category_scores"
   ]
  },
  {
   "cell_type": "code",
   "execution_count": 4,
   "id": "ff3a0691",
   "metadata": {},
   "outputs": [
    {
     "data": {
      "application/vnd.jupyter.widget-view+json": {
       "model_id": "718ec07aee4d421395342e3ac17bd979",
       "version_major": 2,
       "version_minor": 0
      },
      "text/plain": [
       "Batches:   0%|          | 0/313 [00:00<?, ?it/s]"
      ]
     },
     "metadata": {},
     "output_type": "display_data"
    }
   ],
   "source": [
    "BATCH_SIZE = 32\n",
    "\n",
    "dataset[\"pretrained_sentence_embedding\"] = pd.Series(\n",
    "        pretrained_model.encode(dataset[\"problem\"], batch_size=BATCH_SIZE, device='cuda', show_progress_bar=True).tolist()\n",
    "    )"
   ]
  },
  {
   "cell_type": "code",
   "execution_count": 5,
   "id": "d98e2ef3",
   "metadata": {},
   "outputs": [
    {
     "name": "stdout",
     "output_type": "stream",
     "text": [
      "Jensen-Shannon distance:  0.21370481308628572\n",
      "Wasserstein distance:  0.06940291771632053\n"
     ]
    },
    {
     "data": {
      "image/png": "[encoded data removed]",
      "text/plain": [
       "<Figure size 1200x600 with 1 Axes>"
      ]
     },
     "metadata": {},
     "output_type": "display_data"
    }
   ],
   "source": [
    "%matplotlib inline\n",
    "import numpy as np\n",
    "import matplotlib.pyplot as plt\n",
    "from scipy.spatial import distance\n",
    "from scipy.stats import wasserstein_distance\n",
    "\n",
    "identical_category_scores, different_category_scores = get_scores(dataset, \"pretrained_sentence_embedding\")\n",
    "\n",
    "print(\"Jensen-Shannon distance: \", distance.jensenshannon(np.clip(identical_category_scores, 0.001, None), np.clip(different_category_scores, 0.001, None)))\n",
    "print(\"Wasserstein distance: \", wasserstein_distance(identical_category_scores, different_category_scores))\n",
    "\n",
    "plt.figure(figsize=(12, 6))\n",
    "plt.hist(np.array(identical_category_scores), alpha=0.5, bins=100, label=\"same category\")\n",
    "plt.hist(np.array(different_category_scores), alpha=0.5, bins=100, label=\"different category\")\n",
    "plt.legend(loc='upper right')\n",
    "plt.show()"
   ]
  },
  {
   "cell_type": "code",
   "execution_count": 6,
   "id": "e6e5fa5c",
   "metadata": {},
   "outputs": [],
   "source": [
    "import pickle\n",
    "\n",
    "before_finetuning = {\n",
    "    \"identical_category_scores\": identical_category_scores, \n",
    "    \"different_category_scores\":  different_category_scores\n",
    "}\n",
    "\n",
    "with open(\"before_finetuning.pkl\", \"wb\") as fp:   #Pickling\n",
    "    pickle.dump(before_finetuning, fp)\n",
    "    \n",
    "with open(\"before_finetuning.pkl\", \"rb\") as fp:   # Unpickling\n",
    "    b = pickle.load(fp)"
   ]
  },
  {
   "cell_type": "code",
   "execution_count": 7,
   "id": "e0388d08",
   "metadata": {},
   "outputs": [
    {
     "data": {
      "text/plain": [
       "dict_keys(['identical_category_scores', 'different_category_scores'])"
      ]
     },
     "execution_count": 7,
     "metadata": {},
     "output_type": "execute_result"
    }
   ],
   "source": [
    "b.keys()"
   ]
  },
  {
   "cell_type": "code",
   "execution_count": 8,
   "id": "71f73c7a",
   "metadata": {},
   "outputs": [
    {
     "data": {
      "text/plain": [
       "SentenceTransformer(\n",
       "  (0): Transformer({'max_seq_length': 512, 'do_lower_case': False}) with Transformer model: DistilBertModel \n",
       "  (1): Pooling({'word_embedding_dimension': 768, 'pooling_mode_cls_token': False, 'pooling_mode_mean_tokens': True, 'pooling_mode_max_tokens': False, 'pooling_mode_mean_sqrt_len_tokens': False})\n",
       "  (2): Dense({'in_features': 768, 'out_features': 256, 'bias': True, 'activation_function': 'torch.nn.modules.activation.Tanh'})\n",
       ")"
      ]
     },
     "execution_count": 8,
     "metadata": {},
     "output_type": "execute_result"
    }
   ],
   "source": [
    "import torch\n",
    "from sentence_transformers import SentenceTransformer, models\n",
    "\n",
    "model = SentenceTransformer(\"../models/sbert-math-problem-ContrastiveLoss-cuda/\", device='cpu')\n",
    "model.to('cuda')\n",
    "model"
   ]
  },
  {
   "cell_type": "code",
   "execution_count": 9,
   "id": "6b276c7a",
   "metadata": {},
   "outputs": [
    {
     "data": {
      "application/vnd.jupyter.widget-view+json": {
       "model_id": "93ddd35312714577ba069212b2745a1d",
       "version_major": 2,
       "version_minor": 0
      },
      "text/plain": [
       "Batches:   0%|          | 0/313 [00:00<?, ?it/s]"
      ]
     },
     "metadata": {},
     "output_type": "display_data"
    }
   ],
   "source": [
    "BATCH_SIZE = 32\n",
    "\n",
    "dataset[\"sentence_embedding\"] = pd.Series(\n",
    "        model.encode(dataset[\"problem\"], batch_size=BATCH_SIZE, device='cuda', show_progress_bar=True).tolist()\n",
    "    )"
   ]
  },
  {
   "cell_type": "code",
   "execution_count": null,
   "id": "8f1a2bc2",
   "metadata": {},
   "outputs": [],
   "source": [
    "%matplotlib inline\n",
    "import numpy as np\n",
    "import matplotlib.pyplot as plt\n",
    "from scipy.spatial import distance\n",
    "from scipy.stats import wasserstein_distance\n",
    "\n",
    "identical_category_scores, different_category_scores = get_scores(dataset, \"sentence_embedding\")\n",
    "\n",
    "print(\"Jensen-Shannon distance: \", distance.jensenshannon(np.clip(identical_category_scores, 0.001, None), np.clip(different_category_scores, 0.001, None)))\n",
    "print(\"Wasserstein distance: \", wasserstein_distance(identical_category_scores, different_category_scores))\n",
    "\n",
    "plt.figure(figsize=(12, 6))\n",
    "plt.hist(np.array(identical_category_scores), alpha=0.5, bins=100, label=\"same category\")\n",
    "plt.hist(np.array(different_category_scores), alpha=0.5, bins=100, label=\"different category\")\n",
    "plt.legend(loc='upper right')\n",
    "plt.show()"
   ]
  },
  {
   "cell_type": "code",
   "execution_count": null,
   "id": "2ad12a3a",
   "metadata": {},
   "outputs": [],
   "source": [
    "import pickle\n",
    "\n",
    "after_finetuning = {\n",
    "    \"identical_category_scores\": identical_category_scores, \n",
    "    \"different_category_scores\":  different_category_scores\n",
    "}\n",
    "\n",
    "with open(\"after_finetuning.pkl\", \"wb\") as fp:   #Pickling\n",
    "    pickle.dump(after_finetuning, fp)\n",
    "    \n",
    "with open(\"after_finetuning.pkl\", \"rb\") as fp:   # Unpickling\n",
    "    b = pickle.load(fp)\n",
    "    \n",
    "b.keys()"
   ]
  },
  {
   "cell_type": "code",
   "execution_count": null,
   "id": "b4b6b2e3",
   "metadata": {},
   "outputs": [],
   "source": [
    "import numpy as np\n",
    "from sklearn.metrics.pairwise import cosine_similarity\n",
    "\n",
    "def get_top_matches(query: str, dataset: pd.DataFrame, model, threshold: float = 0.0):\n",
    "    print(\"search dataset size: \", len(dataset))\n",
    "    search_dataset = dataset.copy().reset_index(drop=True)\n",
    "    query_embeds = model.encode(query)\n",
    "    dataset_embeds = np.array(search_dataset[\"sentence_embedding\"].tolist())\n",
    "    search_dataset[\"score\"] = pd.Series(cosine_similarity(query_embeds.reshape(1, -1), dataset_embeds)[0])\n",
    "    search_dataset[\"rank\"] = search_dataset[\"score\"].rank(method='first', ascending=False)\n",
    "    print(\"Search results: \")\n",
    "    return search_dataset.loc[search_dataset[\"score\"]>threshold].sort_values([\"rank\"], ascending=True).iloc[:10].reset_index(drop=True)"
   ]
  },
  {
   "cell_type": "code",
   "execution_count": null,
   "id": "8823814c",
   "metadata": {},
   "outputs": [],
   "source": [
    "#search engine\n",
    "results = get_top_matches(\"exercice with circles and volumes\", dataset, model)"
   ]
  },
  {
   "cell_type": "code",
   "execution_count": null,
   "id": "9a31808a",
   "metadata": {},
   "outputs": [],
   "source": [
    "from IPython.display import display, Latex\n",
    "\n",
    "for i, result in results.iterrows():\n",
    "    print(i, result[\"score\"])\n",
    "    display(Latex('='*20+'METADATA'+'='*20))\n",
    "    display(Latex(\"Type: \"+ result['type']))\n",
    "    display(Latex(\"Level: \" + result['level']))\n",
    "    display(Latex('='*20+'EXERCICE'+'='*20))\n",
    "    display(Latex(result['problem']))\n",
    "    display(Latex('='*20+'SOLUTION'+'='*20))\n",
    "    display(Latex(result['solution']))\n",
    "    print(\"\\n\")"
   ]
  },
  {
   "cell_type": "code",
   "execution_count": null,
   "id": "8d6beb71",
   "metadata": {},
   "outputs": [],
   "source": [
    "results = get_top_matches(\"exercice on probability\", dataset, model)\n",
    "from IPython.display import display, Latex\n",
    "\n",
    "for i, result in results.iterrows():\n",
    "    print(i, result[\"score\"])\n",
    "    display(Latex('='*20+'METADATA'+'='*20))\n",
    "    display(Latex(\"Type: \"+ result['type']))\n",
    "    display(Latex(\"Level: \" + result['level']))\n",
    "    display(Latex(\"id: \" + result['id']))\n",
    "    display(Latex('='*20+'EXERCICE'+'='*20))\n",
    "    display(Latex(result['problem']))\n",
    "    display(Latex('='*20+'SOLUTION'+'='*20))\n",
    "    display(Latex(result['solution']))\n",
    "    print(\"\\n\")"
   ]
  },
  {
   "cell_type": "code",
   "execution_count": null,
   "id": "bf977848",
   "metadata": {},
   "outputs": [],
   "source": []
  },
  {
   "cell_type": "code",
   "execution_count": null,
   "id": "4e086ffd",
   "metadata": {},
   "outputs": [],
   "source": [
    "#recommend similar exercices\n",
    "\n",
    "exercice = dataset.loc[dataset[\"id\"]==\"intermediate_algebra_1586\"].iloc[0][\"problem\"]\n",
    "display(Latex(exercice))"
   ]
  },
  {
   "cell_type": "code",
   "execution_count": 17,
   "id": "7f2d6df9",
   "metadata": {},
   "outputs": [
    {
     "name": "stdout",
     "output_type": "stream",
     "text": [
      "search dataset size:  10000\n",
      "Search results: \n",
      "0 0.9999999999999393\n"
     ]
    },
    {
     "data": {
      "text/latex": [
       "====================METADATA===================="
      ],
      "text/plain": [
       "<IPython.core.display.Latex object>"
      ]
     },
     "metadata": {},
     "output_type": "display_data"
    },
    {
     "data": {
      "text/latex": [
       "Type: Intermediate Algebra"
      ],
      "text/plain": [
       "<IPython.core.display.Latex object>"
      ]
     },
     "metadata": {},
     "output_type": "display_data"
    },
    {
     "data": {
      "text/latex": [
       "Level: Level 3"
      ],
      "text/plain": [
       "<IPython.core.display.Latex object>"
      ]
     },
     "metadata": {},
     "output_type": "display_data"
    },
    {
     "data": {
      "text/latex": [
       "====================EXERCICE===================="
      ],
      "text/plain": [
       "<IPython.core.display.Latex object>"
      ]
     },
     "metadata": {},
     "output_type": "display_data"
    },
    {
     "data": {
      "text/latex": [
       "Compute the area of the ellipse $25x^2 +4 y^2 = 16.$"
      ],
      "text/plain": [
       "<IPython.core.display.Latex object>"
      ]
     },
     "metadata": {},
     "output_type": "display_data"
    },
    {
     "data": {
      "text/latex": [
       "====================SOLUTION===================="
      ],
      "text/plain": [
       "<IPython.core.display.Latex object>"
      ]
     },
     "metadata": {},
     "output_type": "display_data"
    },
    {
     "data": {
      "text/latex": [
       "Dividing by 16 gives the standard form of the equation of this ellipse, \\[\\frac{x^2}{(\\frac{16}{25})} + \\frac{y^2}{4} = 1.\\]Then, the semimajor and semiminor axes have lengths $\\sqrt{4} = 2$ and $\\sqrt{\\tfrac{16}{25}} = \\tfrac45$. By the area formula for an ellipse, the area of the ellipse is $2 \\cdot \\tfrac45 \\cdot \\pi = \\boxed{\\tfrac{8\\pi}5}.$"
      ],
      "text/plain": [
       "<IPython.core.display.Latex object>"
      ]
     },
     "metadata": {},
     "output_type": "display_data"
    },
    {
     "name": "stdout",
     "output_type": "stream",
     "text": [
      "\n",
      "\n",
      "1 0.997239611820809\n"
     ]
    },
    {
     "data": {
      "text/latex": [
       "====================METADATA===================="
      ],
      "text/plain": [
       "<IPython.core.display.Latex object>"
      ]
     },
     "metadata": {},
     "output_type": "display_data"
    },
    {
     "data": {
      "text/latex": [
       "Type: Intermediate Algebra"
      ],
      "text/plain": [
       "<IPython.core.display.Latex object>"
      ]
     },
     "metadata": {},
     "output_type": "display_data"
    },
    {
     "data": {
      "text/latex": [
       "Level: Level 2"
      ],
      "text/plain": [
       "<IPython.core.display.Latex object>"
      ]
     },
     "metadata": {},
     "output_type": "display_data"
    },
    {
     "data": {
      "text/latex": [
       "====================EXERCICE===================="
      ],
      "text/plain": [
       "<IPython.core.display.Latex object>"
      ]
     },
     "metadata": {},
     "output_type": "display_data"
    },
    {
     "data": {
      "text/latex": [
       "Compute the area of the ellipse $9x^2 + y^2 = 36.$"
      ],
      "text/plain": [
       "<IPython.core.display.Latex object>"
      ]
     },
     "metadata": {},
     "output_type": "display_data"
    },
    {
     "data": {
      "text/latex": [
       "====================SOLUTION===================="
      ],
      "text/plain": [
       "<IPython.core.display.Latex object>"
      ]
     },
     "metadata": {},
     "output_type": "display_data"
    },
    {
     "data": {
      "text/latex": [
       "Dividing by $36$ gives the standard form of the equation of this ellipse, \\[\\frac{x^2}{4} + \\frac{y^2}{36} = 1.\\]Then, the semimajor and semiminor axes have lengths $\\sqrt{36} = 6$ and $\\sqrt{4} = 2,$ respectively. By the area formula for an ellipse, the area of the ellipse is $6 \\cdot 2 \\cdot \\pi = \\boxed{12\\pi}.$"
      ],
      "text/plain": [
       "<IPython.core.display.Latex object>"
      ]
     },
     "metadata": {},
     "output_type": "display_data"
    },
    {
     "name": "stdout",
     "output_type": "stream",
     "text": [
      "\n",
      "\n",
      "2 0.9889328020290091\n"
     ]
    },
    {
     "data": {
      "text/latex": [
       "====================METADATA===================="
      ],
      "text/plain": [
       "<IPython.core.display.Latex object>"
      ]
     },
     "metadata": {},
     "output_type": "display_data"
    },
    {
     "data": {
      "text/latex": [
       "Type: Intermediate Algebra"
      ],
      "text/plain": [
       "<IPython.core.display.Latex object>"
      ]
     },
     "metadata": {},
     "output_type": "display_data"
    },
    {
     "data": {
      "text/latex": [
       "Level: Level 2"
      ],
      "text/plain": [
       "<IPython.core.display.Latex object>"
      ]
     },
     "metadata": {},
     "output_type": "display_data"
    },
    {
     "data": {
      "text/latex": [
       "====================EXERCICE===================="
      ],
      "text/plain": [
       "<IPython.core.display.Latex object>"
      ]
     },
     "metadata": {},
     "output_type": "display_data"
    },
    {
     "data": {
      "text/latex": [
       "Find the area of the ellipse given by $x^2 + 6x + 4y^2 - 8y + 9 = 0.$"
      ],
      "text/plain": [
       "<IPython.core.display.Latex object>"
      ]
     },
     "metadata": {},
     "output_type": "display_data"
    },
    {
     "data": {
      "text/latex": [
       "====================SOLUTION===================="
      ],
      "text/plain": [
       "<IPython.core.display.Latex object>"
      ]
     },
     "metadata": {},
     "output_type": "display_data"
    },
    {
     "data": {
      "text/latex": [
       "Completing the square in $x$ and $y,$ we get\n",
       "\\[(x + 3)^2 + 4(y - 1)^2 = 4.\\]Then\n",
       "\\[\\frac{(x + 3)^2}{4} + \\frac{(y - 1)^2}{1} = 1,\\]so the semi-major axis is 2, the semi-minor axis is 1, and the area is then $\\boxed{2 \\pi}.$"
      ],
      "text/plain": [
       "<IPython.core.display.Latex object>"
      ]
     },
     "metadata": {},
     "output_type": "display_data"
    },
    {
     "name": "stdout",
     "output_type": "stream",
     "text": [
      "\n",
      "\n",
      "3 0.9856854462803059\n"
     ]
    },
    {
     "data": {
      "text/latex": [
       "====================METADATA===================="
      ],
      "text/plain": [
       "<IPython.core.display.Latex object>"
      ]
     },
     "metadata": {},
     "output_type": "display_data"
    },
    {
     "data": {
      "text/latex": [
       "Type: Intermediate Algebra"
      ],
      "text/plain": [
       "<IPython.core.display.Latex object>"
      ]
     },
     "metadata": {},
     "output_type": "display_data"
    },
    {
     "data": {
      "text/latex": [
       "Level: Level 1"
      ],
      "text/plain": [
       "<IPython.core.display.Latex object>"
      ]
     },
     "metadata": {},
     "output_type": "display_data"
    },
    {
     "data": {
      "text/latex": [
       "====================EXERCICE===================="
      ],
      "text/plain": [
       "<IPython.core.display.Latex object>"
      ]
     },
     "metadata": {},
     "output_type": "display_data"
    },
    {
     "data": {
      "text/latex": [
       "Find the center of the ellipse whose equation is $9x^2 + 72x + 4y^2 - 8y - 176 = 0.$"
      ],
      "text/plain": [
       "<IPython.core.display.Latex object>"
      ]
     },
     "metadata": {},
     "output_type": "display_data"
    },
    {
     "data": {
      "text/latex": [
       "====================SOLUTION===================="
      ],
      "text/plain": [
       "<IPython.core.display.Latex object>"
      ]
     },
     "metadata": {},
     "output_type": "display_data"
    },
    {
     "data": {
      "text/latex": [
       "Completing the square in $x$ and $y,$ we get\n",
       "\\[9(x + 4)^2 + 4(y - 1)^2 = 324.\\]Then\n",
       "\\[\\frac{(x + 4)^2}{36} + \\frac{(y - 1)^2}{81} = 1.\\]Thus, the center of the ellipse is $\\boxed{(-4,1)}.$"
      ],
      "text/plain": [
       "<IPython.core.display.Latex object>"
      ]
     },
     "metadata": {},
     "output_type": "display_data"
    },
    {
     "name": "stdout",
     "output_type": "stream",
     "text": [
      "\n",
      "\n",
      "4 0.9856682129619009\n"
     ]
    },
    {
     "data": {
      "text/latex": [
       "====================METADATA===================="
      ],
      "text/plain": [
       "<IPython.core.display.Latex object>"
      ]
     },
     "metadata": {},
     "output_type": "display_data"
    },
    {
     "data": {
      "text/latex": [
       "Type: Intermediate Algebra"
      ],
      "text/plain": [
       "<IPython.core.display.Latex object>"
      ]
     },
     "metadata": {},
     "output_type": "display_data"
    },
    {
     "data": {
      "text/latex": [
       "Level: Level 1"
      ],
      "text/plain": [
       "<IPython.core.display.Latex object>"
      ]
     },
     "metadata": {},
     "output_type": "display_data"
    },
    {
     "data": {
      "text/latex": [
       "====================EXERCICE===================="
      ],
      "text/plain": [
       "<IPython.core.display.Latex object>"
      ]
     },
     "metadata": {},
     "output_type": "display_data"
    },
    {
     "data": {
      "text/latex": [
       "Find the center of the ellipse whose equation is $5x^2 - 20x + 9y^2 - 18y - 16 = 0.$"
      ],
      "text/plain": [
       "<IPython.core.display.Latex object>"
      ]
     },
     "metadata": {},
     "output_type": "display_data"
    },
    {
     "data": {
      "text/latex": [
       "====================SOLUTION===================="
      ],
      "text/plain": [
       "<IPython.core.display.Latex object>"
      ]
     },
     "metadata": {},
     "output_type": "display_data"
    },
    {
     "data": {
      "text/latex": [
       "Completing the square in $x$ and $y,$ we get\n",
       "\\[5(x - 2)^2 + 9(y - 1)^2 = 45.\\]Then\n",
       "\\[\\frac{(x - 2)^2}{9} + \\frac{(y - 1)^2}{5} = 1,\\]so the center of the ellipse is $\\boxed{(2,1)}.$"
      ],
      "text/plain": [
       "<IPython.core.display.Latex object>"
      ]
     },
     "metadata": {},
     "output_type": "display_data"
    },
    {
     "name": "stdout",
     "output_type": "stream",
     "text": [
      "\n",
      "\n",
      "5 0.9850150256690161\n"
     ]
    },
    {
     "data": {
      "text/latex": [
       "====================METADATA===================="
      ],
      "text/plain": [
       "<IPython.core.display.Latex object>"
      ]
     },
     "metadata": {},
     "output_type": "display_data"
    },
    {
     "data": {
      "text/latex": [
       "Type: Intermediate Algebra"
      ],
      "text/plain": [
       "<IPython.core.display.Latex object>"
      ]
     },
     "metadata": {},
     "output_type": "display_data"
    },
    {
     "data": {
      "text/latex": [
       "Level: Level 3"
      ],
      "text/plain": [
       "<IPython.core.display.Latex object>"
      ]
     },
     "metadata": {},
     "output_type": "display_data"
    },
    {
     "data": {
      "text/latex": [
       "====================EXERCICE===================="
      ],
      "text/plain": [
       "<IPython.core.display.Latex object>"
      ]
     },
     "metadata": {},
     "output_type": "display_data"
    },
    {
     "data": {
      "text/latex": [
       "Compute the distance between the two foci of the ellipse $x^2 + 4y^2 = 9.$"
      ],
      "text/plain": [
       "<IPython.core.display.Latex object>"
      ]
     },
     "metadata": {},
     "output_type": "display_data"
    },
    {
     "data": {
      "text/latex": [
       "====================SOLUTION===================="
      ],
      "text/plain": [
       "<IPython.core.display.Latex object>"
      ]
     },
     "metadata": {},
     "output_type": "display_data"
    },
    {
     "data": {
      "text/latex": [
       "Dividing by $9$ lets us write the equation of the ellipse in standard form: \\[\\left(\\frac{x}{3}\\right)^2 + \\left(\\frac{y}{3/2}\\right)^2 = 1.\\]Thus, the length of the two axes of the ellipse are $2 \\cdot 3 = 6$ and $2 \\cdot \\tfrac{3}{2} = 3,$ so the distance between the foci is $\\sqrt{6^2 - 3^2} = \\boxed{3\\sqrt3}.$"
      ],
      "text/plain": [
       "<IPython.core.display.Latex object>"
      ]
     },
     "metadata": {},
     "output_type": "display_data"
    },
    {
     "name": "stdout",
     "output_type": "stream",
     "text": [
      "\n",
      "\n",
      "6 0.9784269160159575\n"
     ]
    },
    {
     "data": {
      "text/latex": [
       "====================METADATA===================="
      ],
      "text/plain": [
       "<IPython.core.display.Latex object>"
      ]
     },
     "metadata": {},
     "output_type": "display_data"
    },
    {
     "data": {
      "text/latex": [
       "Type: Intermediate Algebra"
      ],
      "text/plain": [
       "<IPython.core.display.Latex object>"
      ]
     },
     "metadata": {},
     "output_type": "display_data"
    },
    {
     "data": {
      "text/latex": [
       "Level: Level 1"
      ],
      "text/plain": [
       "<IPython.core.display.Latex object>"
      ]
     },
     "metadata": {},
     "output_type": "display_data"
    },
    {
     "data": {
      "text/latex": [
       "====================EXERCICE===================="
      ],
      "text/plain": [
       "<IPython.core.display.Latex object>"
      ]
     },
     "metadata": {},
     "output_type": "display_data"
    },
    {
     "data": {
      "text/latex": [
       "Find the polynomial $p(x)$ if\n",
       "$$(x^2-3x+5)p(x) = x^4-3x^3+15x-25.$$"
      ],
      "text/plain": [
       "<IPython.core.display.Latex object>"
      ]
     },
     "metadata": {},
     "output_type": "display_data"
    },
    {
     "data": {
      "text/latex": [
       "====================SOLUTION===================="
      ],
      "text/plain": [
       "<IPython.core.display.Latex object>"
      ]
     },
     "metadata": {},
     "output_type": "display_data"
    },
    {
     "data": {
      "text/latex": [
       "Since multiplying $p(x)$ with a quadratic (degree 2) polynomial gives us a quartic (degree 4) polynomial, $p(x)$ is also a quadratic of the form $ax^2+bx+c$ where $a$, $b$, and $c$ are constants. So we have\n",
       "$$(x^2-3x+5)(ax^2+bx+c) = x^4-3x^3+15x-25.$$Expanding the left hand side gives us\n",
       "$$ax^4 - (b-3a)x^3+(5a-3b+c)x^2+(5b-3c)x+5c = x^4-3x^3+15x-25.$$If these polynomials are equal, each term must be equal. So, $ax^4 = x^4$ which means $a = 1$.  Also, $(b-3a)x^3 = (b-3)x^3 =  -3x^3$ which we can solve to get $b=0$.  Finally, since we must have $5c = -25$ we know $c=-5$.  Hence, the polynomial $p(x) = \\boxed{x^2-5}$."
      ],
      "text/plain": [
       "<IPython.core.display.Latex object>"
      ]
     },
     "metadata": {},
     "output_type": "display_data"
    },
    {
     "name": "stdout",
     "output_type": "stream",
     "text": [
      "\n",
      "\n",
      "7 0.9738005752327188\n"
     ]
    },
    {
     "data": {
      "text/latex": [
       "====================METADATA===================="
      ],
      "text/plain": [
       "<IPython.core.display.Latex object>"
      ]
     },
     "metadata": {},
     "output_type": "display_data"
    },
    {
     "data": {
      "text/latex": [
       "Type: Intermediate Algebra"
      ],
      "text/plain": [
       "<IPython.core.display.Latex object>"
      ]
     },
     "metadata": {},
     "output_type": "display_data"
    },
    {
     "data": {
      "text/latex": [
       "Level: Level 3"
      ],
      "text/plain": [
       "<IPython.core.display.Latex object>"
      ]
     },
     "metadata": {},
     "output_type": "display_data"
    },
    {
     "data": {
      "text/latex": [
       "====================EXERCICE===================="
      ],
      "text/plain": [
       "<IPython.core.display.Latex object>"
      ]
     },
     "metadata": {},
     "output_type": "display_data"
    },
    {
     "data": {
      "text/latex": [
       "Find the focus of the parabola $y = -3x^2 - 6x.$"
      ],
      "text/plain": [
       "<IPython.core.display.Latex object>"
      ]
     },
     "metadata": {},
     "output_type": "display_data"
    },
    {
     "data": {
      "text/latex": [
       "====================SOLUTION===================="
      ],
      "text/plain": [
       "<IPython.core.display.Latex object>"
      ]
     },
     "metadata": {},
     "output_type": "display_data"
    },
    {
     "data": {
      "text/latex": [
       "Recall that a parabola is defined as the set of all points that are equidistant to the focus $F$ and the directrix.  Completing the square on $x,$ we get\n",
       "\\[y = -3(x + 1)^2 + 3.\\]To make the algebra a bit easier, we can find the focus of the parabola $y = -3x^2,$ shift the parabola left by 1 unit to get $y = -3(x + 1)^2,$ and then shift it upward 3 units to find the focus of the parabola $y = -3(x + 1)^2 + 3.$\n",
       "\n",
       "Since the parabola $y = -3x^2$ is symmetric about the $y$-axis, the focus is at a point of the form $(0,f).$  Let $y = d$ be the equation of the directrix.\n",
       "\n",
       "[asy]\n",
       "unitsize(1.5 cm);\n",
       "\n",
       "pair F, P, Q;\n",
       "\n",
       "F = (0,-1/4);\n",
       "P = (1,-1);\n",
       "Q = (1,1/4);\n",
       "\n",
       "real parab (real x) {\n",
       "  return(-x^2);\n",
       "}\n",
       "\n",
       "draw(graph(parab,-1.5,1.5),red);\n",
       "draw((-1.5,1/4)--(1.5,1/4),dashed);\n",
       "draw(P--F);\n",
       "draw(P--Q);\n",
       "\n",
       "dot(\"$F$\", F, SW);\n",
       "dot(\"$P$\", P, E);\n",
       "dot(\"$Q$\", Q, N);\n",
       "[/asy]\n",
       "\n",
       "Let $(x,-3x^2)$ be a point on the parabola $y = -3x^2.$  Then\n",
       "\\[PF^2 = x^2 + (-3x^2 - f)^2\\]and $PQ^2 = (-3x^2 - d)^2.$  Thus,\n",
       "\\[x^2 + (-3x^2 - f)^2 = (-3x^2 - d)^2.\\]Expanding, we get\n",
       "\\[x^2 + 9x^4 + 6fx^2 + f^2 = 9x^4 + 6dx^2 + d^2.\\]Matching coefficients, we get\n",
       "\\begin{align*}\n",
       "1 + 6f &= 6d, \\\\\n",
       "f^2 &= d^2.\n",
       "\\end{align*}From the first equation, $d - f = \\frac{1}{6}.$  Since $f^2 = d^2,$ $f = d$ or $f = -d.$  We cannot have $f = d,$ so $f = -d.$  Then $-2f = \\frac{1}{6},$ so $f = -\\frac{1}{12}.$\n",
       "\n",
       "Thus, the focus of $y = -3x^2$ is $\\left( 0, -\\frac{1}{12} \\right),$ and the focus of $y = -3(x + 1)^2$ is $\\left( -1, -\\frac{1}{12} \\right),$ so the focus of $y = -3(x - 1)^2 + 3$ is $\\boxed{\\left( -1, \\frac{35}{12} \\right)}.$"
      ],
      "text/plain": [
       "<IPython.core.display.Latex object>"
      ]
     },
     "metadata": {},
     "output_type": "display_data"
    },
    {
     "name": "stdout",
     "output_type": "stream",
     "text": [
      "\n",
      "\n",
      "8 0.9700601405287148\n"
     ]
    },
    {
     "data": {
      "text/latex": [
       "====================METADATA===================="
      ],
      "text/plain": [
       "<IPython.core.display.Latex object>"
      ]
     },
     "metadata": {},
     "output_type": "display_data"
    },
    {
     "data": {
      "text/latex": [
       "Type: Intermediate Algebra"
      ],
      "text/plain": [
       "<IPython.core.display.Latex object>"
      ]
     },
     "metadata": {},
     "output_type": "display_data"
    },
    {
     "data": {
      "text/latex": [
       "Level: Level 4"
      ],
      "text/plain": [
       "<IPython.core.display.Latex object>"
      ]
     },
     "metadata": {},
     "output_type": "display_data"
    },
    {
     "data": {
      "text/latex": [
       "====================EXERCICE===================="
      ],
      "text/plain": [
       "<IPython.core.display.Latex object>"
      ]
     },
     "metadata": {},
     "output_type": "display_data"
    },
    {
     "data": {
      "text/latex": [
       "The polynomial $ax^4 + bx^3 + 32x^2 - 16x + 6$ has a factor of $3x^2 - 2x + 1.$  Find the ordered pair $(a,b).$"
      ],
      "text/plain": [
       "<IPython.core.display.Latex object>"
      ]
     },
     "metadata": {},
     "output_type": "display_data"
    },
    {
     "data": {
      "text/latex": [
       "====================SOLUTION===================="
      ],
      "text/plain": [
       "<IPython.core.display.Latex object>"
      ]
     },
     "metadata": {},
     "output_type": "display_data"
    },
    {
     "data": {
      "text/latex": [
       "We can write\n",
       "\\[ax^4 + bx^3 + 32x^2 - 16x + 6 = (3x^2 - 2x + 1)(cx^2 + dx + 6).\\]Expanding, we get\n",
       "\\[ax^2 + bx^3 + 32x^2 - 16x + 6 = 3cx^4 + (-2c + 3d)x^3 + (c - 2d + 18) x^2 + (d - 12) x + 6.\\]Comparing coefficients, we get\n",
       "\\begin{align*}\n",
       "a &= 3c, \\\\\n",
       "b &= -2c + 3d, \\\\\n",
       "32 &= c - 2d + 18, \\\\\n",
       "-16 &= d - 12.\n",
       "\\end{align*}Solving, we find $a = 18,$ $b =-24,$ $c = 6,$ and $d = -4,$ so $(a,b) = \\boxed{(18,-24)}.$"
      ],
      "text/plain": [
       "<IPython.core.display.Latex object>"
      ]
     },
     "metadata": {},
     "output_type": "display_data"
    },
    {
     "name": "stdout",
     "output_type": "stream",
     "text": [
      "\n",
      "\n",
      "9 0.970012648358323\n"
     ]
    },
    {
     "data": {
      "text/latex": [
       "====================METADATA===================="
      ],
      "text/plain": [
       "<IPython.core.display.Latex object>"
      ]
     },
     "metadata": {},
     "output_type": "display_data"
    },
    {
     "data": {
      "text/latex": [
       "Type: Algebra"
      ],
      "text/plain": [
       "<IPython.core.display.Latex object>"
      ]
     },
     "metadata": {},
     "output_type": "display_data"
    },
    {
     "data": {
      "text/latex": [
       "Level: Level 4"
      ],
      "text/plain": [
       "<IPython.core.display.Latex object>"
      ]
     },
     "metadata": {},
     "output_type": "display_data"
    },
    {
     "data": {
      "text/latex": [
       "====================EXERCICE===================="
      ],
      "text/plain": [
       "<IPython.core.display.Latex object>"
      ]
     },
     "metadata": {},
     "output_type": "display_data"
    },
    {
     "data": {
      "text/latex": [
       "Consider the polynomials  \\[f(x)=1-12x+3x^2-4x^3+5x^4\\] and \\[g(x)=3-2x-6x^3+9x^4.\\] Find $c$ such that the polynomial $f(x)+cg(x)$ has degree 3."
      ],
      "text/plain": [
       "<IPython.core.display.Latex object>"
      ]
     },
     "metadata": {},
     "output_type": "display_data"
    },
    {
     "data": {
      "text/latex": [
       "====================SOLUTION===================="
      ],
      "text/plain": [
       "<IPython.core.display.Latex object>"
      ]
     },
     "metadata": {},
     "output_type": "display_data"
    },
    {
     "data": {
      "text/latex": [
       "The polynomial $f(x)+cg(x)$ will have degree 3 exactly when the $x^4$ terms cancel and the $x^3$ terms do not.  The $x^4$ term of $f(x)+cg(x)$ is \\[5x^4+c(9x^4)=(5+9c)x^4.\\]This is zero when $c=-5/9$.\n",
       "\n",
       "If $c=-5/9$, the $x^3$ term is   \\[-4x^3+c(-6x^3)=(-4-6\\cdot -5/9)x^3=-\\frac{2}{3}x^3\\neq0.\\]Therefore there is only one solution $c=\\boxed{-\\frac{5}{9}}$."
      ],
      "text/plain": [
       "<IPython.core.display.Latex object>"
      ]
     },
     "metadata": {},
     "output_type": "display_data"
    },
    {
     "name": "stdout",
     "output_type": "stream",
     "text": [
      "\n",
      "\n"
     ]
    }
   ],
   "source": [
    "recs = get_top_matches(exercice, dataset, model)\n",
    "for i, result in recs.iterrows():\n",
    "    print(i, result[\"score\"])\n",
    "    display(Latex('='*20+'METADATA'+'='*20))\n",
    "    display(Latex(\"Type: \"+ result['type']))\n",
    "    display(Latex(\"Level: \" + result['level']))\n",
    "    display(Latex('='*20+'EXERCICE'+'='*20))\n",
    "    display(Latex(result['problem']))\n",
    "    display(Latex('='*20+'SOLUTION'+'='*20))\n",
    "    display(Latex(result['solution']))\n",
    "    print(\"\\n\")"
   ]
  },
  {
   "cell_type": "code",
   "execution_count": null,
   "id": "14541780",
   "metadata": {},
   "outputs": [],
   "source": []
  }
 ],
 "metadata": {
  "kernelspec": {
   "display_name": "stagem2",
   "language": "python",
   "name": "stage"
  },
  "language_info": {
   "codemirror_mode": {
    "name": "ipython",
    "version": 3
   },
   "file_extension": ".py",
   "mimetype": "text/x-python",
   "name": "python",
   "nbconvert_exporter": "python",
   "pygments_lexer": "ipython3",
   "version": "3.11.3"
  }
 },
 "nbformat": 4,
 "nbformat_minor": 5
}

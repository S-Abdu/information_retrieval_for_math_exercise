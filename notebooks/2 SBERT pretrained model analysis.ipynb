{
 "cells": [
  {
   "cell_type": "code",
   "execution_count": 1,
   "id": "7e0a4a14",
   "metadata": {},
   "outputs": [
    {
     "name": "stdout",
     "output_type": "stream",
     "text": [
      "cuda:0\n"
     ]
    },
    {
     "data": {
      "text/plain": [
       "SentenceTransformer(\n",
       "  (0): Transformer({'max_seq_length': 128, 'do_lower_case': False}) with Transformer model: DistilBertModel \n",
       "  (1): Pooling({'word_embedding_dimension': 768, 'pooling_mode_cls_token': False, 'pooling_mode_mean_tokens': True, 'pooling_mode_max_tokens': False, 'pooling_mode_mean_sqrt_len_tokens': False})\n",
       "  (2): Dense({'in_features': 768, 'out_features': 512, 'bias': True, 'activation_function': 'torch.nn.modules.activation.Tanh'})\n",
       ")"
      ]
     },
     "execution_count": 1,
     "metadata": {},
     "output_type": "execute_result"
    }
   ],
   "source": [
    "from sentence_transformers import SentenceTransformer\n",
    "\n",
    "pretrained_model = SentenceTransformer(\"sentence-transformers/distiluse-base-multilingual-cased-v1\", device='cuda')\n",
    "pretrained_model.to('cuda')\n",
    "print(pretrained_model.device)\n",
    "pretrained_model"
   ]
  },
  {
   "cell_type": "code",
   "execution_count": 2,
   "id": "9cf5de76",
   "metadata": {},
   "outputs": [
    {
     "data": {
      "text/plain": [
       "SentenceTransformer(\n",
       "  (0): Transformer({'max_seq_length': 512, 'do_lower_case': False}) with Transformer model: DistilBertModel \n",
       "  (1): Pooling({'word_embedding_dimension': 768, 'pooling_mode_cls_token': False, 'pooling_mode_mean_tokens': True, 'pooling_mode_max_tokens': False, 'pooling_mode_mean_sqrt_len_tokens': False})\n",
       "  (2): Dense({'in_features': 768, 'out_features': 256, 'bias': True, 'activation_function': 'torch.nn.modules.activation.Tanh'})\n",
       ")"
      ]
     },
     "execution_count": 2,
     "metadata": {},
     "output_type": "execute_result"
    }
   ],
   "source": [
    "from sentence_transformers import SentenceTransformer, models\n",
    "from torch import nn\n",
    "\n",
    "word_embedding_model = models.Transformer(\"sentence-transformers/distiluse-base-multilingual-cased-v1\", max_seq_length=512)\n",
    "pooling_model = models.Pooling(word_embedding_model.get_word_embedding_dimension())\n",
    "dense_model = models.Dense(in_features=pooling_model.get_sentence_embedding_dimension(), out_features=256, activation_function=nn.Tanh())\n",
    "\n",
    "model = SentenceTransformer(modules=[word_embedding_model, pooling_model, dense_model], device='cuda')\n",
    "model"
   ]
  },
  {
   "cell_type": "code",
   "execution_count": 3,
   "id": "ecbb3cb7",
   "metadata": {},
   "outputs": [
    {
     "data": {
      "text/html": [
       "<div>\n",
       "<style scoped>\n",
       "    .dataframe tbody tr th:only-of-type {\n",
       "        vertical-align: middle;\n",
       "    }\n",
       "\n",
       "    .dataframe tbody tr th {\n",
       "        vertical-align: top;\n",
       "    }\n",
       "\n",
       "    .dataframe thead th {\n",
       "        text-align: right;\n",
       "    }\n",
       "</style>\n",
       "<table border=\"1\" class=\"dataframe\">\n",
       "  <thead>\n",
       "    <tr style=\"text-align: right;\">\n",
       "      <th></th>\n",
       "      <th>problem</th>\n",
       "      <th>level</th>\n",
       "      <th>type</th>\n",
       "      <th>solution</th>\n",
       "      <th>id</th>\n",
       "      <th>source</th>\n",
       "      <th>category</th>\n",
       "    </tr>\n",
       "  </thead>\n",
       "  <tbody>\n",
       "    <tr>\n",
       "      <th>0</th>\n",
       "      <td>Find the positive base $b$ in which the equati...</td>\n",
       "      <td>Level 4</td>\n",
       "      <td>Number Theory</td>\n",
       "      <td>When we rewrite the above equation with the ba...</td>\n",
       "      <td>number_theory_1004</td>\n",
       "      <td>test</td>\n",
       "      <td>4</td>\n",
       "    </tr>\n",
       "    <tr>\n",
       "      <th>1</th>\n",
       "      <td>There are eight boys and six girls who are mem...</td>\n",
       "      <td>Level 3</td>\n",
       "      <td>Counting &amp; Probability</td>\n",
       "      <td>First, we consider how many ways there are to ...</td>\n",
       "      <td>counting_and_probability_682</td>\n",
       "      <td>test</td>\n",
       "      <td>1</td>\n",
       "    </tr>\n",
       "    <tr>\n",
       "      <th>2</th>\n",
       "      <td>What is the domain of the function $g(x) = \\fr...</td>\n",
       "      <td>Level 1</td>\n",
       "      <td>Intermediate Algebra</td>\n",
       "      <td>The formula for $g(x)$ has a defined value unl...</td>\n",
       "      <td>intermediate_algebra_1317</td>\n",
       "      <td>train</td>\n",
       "      <td>3</td>\n",
       "    </tr>\n",
       "    <tr>\n",
       "      <th>3</th>\n",
       "      <td>A standard deck of 52 cards has 13 ranks (Ace,...</td>\n",
       "      <td>Level 3</td>\n",
       "      <td>Prealgebra</td>\n",
       "      <td>There are $3 \\times 4 = 12$ face cards and 52 ...</td>\n",
       "      <td>prealgebra_1079</td>\n",
       "      <td>test</td>\n",
       "      <td>5</td>\n",
       "    </tr>\n",
       "    <tr>\n",
       "      <th>4</th>\n",
       "      <td>The two endpoints of a segment are at $(1,4)$ ...</td>\n",
       "      <td>Level 1</td>\n",
       "      <td>Algebra</td>\n",
       "      <td>The midpoint of the segment is at $\\left(\\frac...</td>\n",
       "      <td>algebra_1025</td>\n",
       "      <td>test</td>\n",
       "      <td>0</td>\n",
       "    </tr>\n",
       "    <tr>\n",
       "      <th>...</th>\n",
       "      <td>...</td>\n",
       "      <td>...</td>\n",
       "      <td>...</td>\n",
       "      <td>...</td>\n",
       "      <td>...</td>\n",
       "      <td>...</td>\n",
       "      <td>...</td>\n",
       "    </tr>\n",
       "    <tr>\n",
       "      <th>9995</th>\n",
       "      <td>Given that 0.5 liters is approximately 1.05 pi...</td>\n",
       "      <td>Level 3</td>\n",
       "      <td>Prealgebra</td>\n",
       "      <td>If half a liter is 1.05 pints, then a whole li...</td>\n",
       "      <td>prealgebra_532</td>\n",
       "      <td>train</td>\n",
       "      <td>5</td>\n",
       "    </tr>\n",
       "    <tr>\n",
       "      <th>9996</th>\n",
       "      <td>In the figure shown, $AC=13$ and $DC=2$ units....</td>\n",
       "      <td>Level 4</td>\n",
       "      <td>Geometry</td>\n",
       "      <td>Since $AC=AD+DC=13$ and $DC=2$, $AD=11$. We al...</td>\n",
       "      <td>geometry_953</td>\n",
       "      <td>test</td>\n",
       "      <td>2</td>\n",
       "    </tr>\n",
       "    <tr>\n",
       "      <th>9997</th>\n",
       "      <td>There are eight furlongs in a mile. There are ...</td>\n",
       "      <td>Level 4</td>\n",
       "      <td>Prealgebra</td>\n",
       "      <td>We have  \\[\\n14\\text{ days} = 1 \\text{ fortnig...</td>\n",
       "      <td>prealgebra_1260</td>\n",
       "      <td>test</td>\n",
       "      <td>5</td>\n",
       "    </tr>\n",
       "    <tr>\n",
       "      <th>9998</th>\n",
       "      <td>If a rectangular prism has a length of $l$, a ...</td>\n",
       "      <td>Level 2</td>\n",
       "      <td>Algebra</td>\n",
       "      <td>We are given that $$\\sqrt{l^2 + w^2 + h^2} = \\...</td>\n",
       "      <td>algebra_676</td>\n",
       "      <td>train</td>\n",
       "      <td>0</td>\n",
       "    </tr>\n",
       "    <tr>\n",
       "      <th>9999</th>\n",
       "      <td>What is the largest possible median for the fi...</td>\n",
       "      <td>Level 3</td>\n",
       "      <td>Prealgebra</td>\n",
       "      <td>The median is the number in the set with half ...</td>\n",
       "      <td>prealgebra_1382</td>\n",
       "      <td>train</td>\n",
       "      <td>5</td>\n",
       "    </tr>\n",
       "  </tbody>\n",
       "</table>\n",
       "<p>10000 rows × 7 columns</p>\n",
       "</div>"
      ],
      "text/plain": [
       "                                                problem    level  \\\n",
       "0     Find the positive base $b$ in which the equati...  Level 4   \n",
       "1     There are eight boys and six girls who are mem...  Level 3   \n",
       "2     What is the domain of the function $g(x) = \\fr...  Level 1   \n",
       "3     A standard deck of 52 cards has 13 ranks (Ace,...  Level 3   \n",
       "4     The two endpoints of a segment are at $(1,4)$ ...  Level 1   \n",
       "...                                                 ...      ...   \n",
       "9995  Given that 0.5 liters is approximately 1.05 pi...  Level 3   \n",
       "9996  In the figure shown, $AC=13$ and $DC=2$ units....  Level 4   \n",
       "9997  There are eight furlongs in a mile. There are ...  Level 4   \n",
       "9998  If a rectangular prism has a length of $l$, a ...  Level 2   \n",
       "9999  What is the largest possible median for the fi...  Level 3   \n",
       "\n",
       "                        type  \\\n",
       "0              Number Theory   \n",
       "1     Counting & Probability   \n",
       "2       Intermediate Algebra   \n",
       "3                 Prealgebra   \n",
       "4                    Algebra   \n",
       "...                      ...   \n",
       "9995              Prealgebra   \n",
       "9996                Geometry   \n",
       "9997              Prealgebra   \n",
       "9998                 Algebra   \n",
       "9999              Prealgebra   \n",
       "\n",
       "                                               solution  \\\n",
       "0     When we rewrite the above equation with the ba...   \n",
       "1     First, we consider how many ways there are to ...   \n",
       "2     The formula for $g(x)$ has a defined value unl...   \n",
       "3     There are $3 \\times 4 = 12$ face cards and 52 ...   \n",
       "4     The midpoint of the segment is at $\\left(\\frac...   \n",
       "...                                                 ...   \n",
       "9995  If half a liter is 1.05 pints, then a whole li...   \n",
       "9996  Since $AC=AD+DC=13$ and $DC=2$, $AD=11$. We al...   \n",
       "9997  We have  \\[\\n14\\text{ days} = 1 \\text{ fortnig...   \n",
       "9998  We are given that $$\\sqrt{l^2 + w^2 + h^2} = \\...   \n",
       "9999  The median is the number in the set with half ...   \n",
       "\n",
       "                                id source  category  \n",
       "0               number_theory_1004   test         4  \n",
       "1     counting_and_probability_682   test         1  \n",
       "2        intermediate_algebra_1317  train         3  \n",
       "3                  prealgebra_1079   test         5  \n",
       "4                     algebra_1025   test         0  \n",
       "...                            ...    ...       ...  \n",
       "9995                prealgebra_532  train         5  \n",
       "9996                  geometry_953   test         2  \n",
       "9997               prealgebra_1260   test         5  \n",
       "9998                   algebra_676  train         0  \n",
       "9999               prealgebra_1382  train         5  \n",
       "\n",
       "[10000 rows x 7 columns]"
      ]
     },
     "execution_count": 3,
     "metadata": {},
     "output_type": "execute_result"
    }
   ],
   "source": [
    "import pandas as pd\n",
    "\n",
    "dataset = pd.read_parquet(\"../dataset/train_math_exercice.parquet\")\n",
    "dataset"
   ]
  },
  {
   "cell_type": "code",
   "execution_count": 4,
   "id": "e7708853",
   "metadata": {},
   "outputs": [
    {
     "data": {
      "text/plain": [
       "0       Find the positive base $b$ in which the equati...\n",
       "1       There are eight boys and six girls who are mem...\n",
       "2       What is the domain of the function $g(x) = \\fr...\n",
       "3       A standard deck of 52 cards has 13 ranks (Ace,...\n",
       "4       The two endpoints of a segment are at $(1,4)$ ...\n",
       "                              ...                        \n",
       "9995    Given that 0.5 liters is approximately 1.05 pi...\n",
       "9996    In the figure shown, $AC=13$ and $DC=2$ units....\n",
       "9997    There are eight furlongs in a mile. There are ...\n",
       "9998    If a rectangular prism has a length of $l$, a ...\n",
       "9999    What is the largest possible median for the fi...\n",
       "Name: problem, Length: 10000, dtype: object"
      ]
     },
     "execution_count": 4,
     "metadata": {},
     "output_type": "execute_result"
    }
   ],
   "source": [
    "dataset[\"problem\"]"
   ]
  },
  {
   "cell_type": "code",
   "execution_count": 5,
   "id": "6564c355",
   "metadata": {},
   "outputs": [
    {
     "data": {
      "application/vnd.jupyter.widget-view+json": {
       "model_id": "9eb8460dfcfa4eb48be2992c0042d166",
       "version_major": 2,
       "version_minor": 0
      },
      "text/plain": [
       "Batches:   0%|          | 0/313 [00:00<?, ?it/s]"
      ]
     },
     "metadata": {},
     "output_type": "display_data"
    }
   ],
   "source": [
    "BATCH_SIZE = 32\n",
    "\n",
    "dataset[\"sentence_embedding\"] = pd.Series(\n",
    "        pretrained_model.encode(dataset[\"problem\"], batch_size=BATCH_SIZE, show_progress_bar=True).tolist()\n",
    "    )"
   ]
  },
  {
   "cell_type": "code",
   "execution_count": 6,
   "id": "f664b4a9",
   "metadata": {},
   "outputs": [],
   "source": [
    "import numpy as np\n",
    "from scipy.spatial.distance import cosine\n",
    "\n",
    "def cosine_similarity(vec_a, vec_b) -> float:\n",
    "        return 1 - cosine(\n",
    "            np.array(vec_a).reshape(1, -1)[0],\n",
    "            np.array(vec_b).reshape(1, -1)[0],\n",
    "        )\n"
   ]
  },
  {
   "cell_type": "code",
   "execution_count": 7,
   "id": "6be492d7",
   "metadata": {},
   "outputs": [],
   "source": [
    "from IPython.display import display, Latex\n",
    "\n",
    "identical_category_scores = []\n",
    "different_category_scores = []\n",
    "\n",
    "for i, sample in dataset.iterrows():\n",
    "    #print(sample['type'])\n",
    "    #display(Latex(sample[\"problem\"]))\n",
    "    cat = sample['category']\n",
    "    pos_example = dataset.loc[dataset['category']==cat].sample(n=1).iloc[0]\n",
    "    identical_category_scores.append(cosine_similarity(sample[\"sentence_embedding\"], pos_example[\"sentence_embedding\"]))\n",
    "    #print(pos_example[\"type\"])\n",
    "    #display(Latex(pos_example[\"problem\"]))\n",
    "    neg_example = dataset.loc[dataset['category']!=cat].sample(n=1).iloc[0]\n",
    "    different_category_scores.append(cosine_similarity(sample[\"sentence_embedding\"], neg_example[\"sentence_embedding\"]))\n",
    "    #print(neg_example[\"type\"])\n",
    "    #display(Latex(neg_example[\"problem\"]))\n",
    "    "
   ]
  },
  {
   "cell_type": "code",
   "execution_count": 8,
   "id": "b8d6af88",
   "metadata": {},
   "outputs": [
    {
     "name": "stdout",
     "output_type": "stream",
     "text": [
      "Jensen-Shannon distance:  0.2100253901537971\n",
      "Wasserstein distance:  0.070116880837928\n"
     ]
    },
    {
     "data": {
      "image/png": "[encoded data removed]",
      "text/plain": [
       "<Figure size 1200x600 with 1 Axes>"
      ]
     },
     "metadata": {},
     "output_type": "display_data"
    }
   ],
   "source": [
    "#%matplotlib inline\n",
    "import numpy as np\n",
    "import matplotlib.pyplot as plt\n",
    "from scipy.spatial import distance\n",
    "from scipy.stats import wasserstein_distance\n",
    "\n",
    "\n",
    "print(\"Jensen-Shannon distance: \", distance.jensenshannon(np.clip(identical_category_scores, 0.001, None), np.clip(different_category_scores, 0.001, None)))\n",
    "print(\"Wasserstein distance: \", wasserstein_distance(identical_category_scores, different_category_scores))\n",
    "\n",
    "plt.figure(figsize=(12, 6))\n",
    "plt.hist(np.array(identical_category_scores), alpha=0.5, bins=100, label=\"same category\")\n",
    "plt.hist(np.array(different_category_scores), alpha=0.5, bins=100, label=\"different category\")\n",
    "plt.ylabel(\"count\", fontsize=14)\n",
    "plt.xlabel(\"similarity score\", fontsize=14)\n",
    "plt.yticks(fontsize=14)\n",
    "plt.xticks(fontsize=14)\n",
    "plt.legend(loc='upper right', fontsize=14)\n",
    "#plt.savefig(\"similarity_score_before_training_trainset.png\", dpi=600, bbox_inches=\"tight\")\n",
    "plt.show()"
   ]
  },
  {
   "cell_type": "code",
   "execution_count": 9,
   "id": "689ac3b2",
   "metadata": {},
   "outputs": [
    {
     "name": "stdout",
     "output_type": "stream",
     "text": [
      "Jensen-Shannon distance:  0.2100253901537971\n",
      "Wasserstein distance:  0.070116880837928\n"
     ]
    }
   ],
   "source": [
    "print(\"Jensen-Shannon distance: \", distance.jensenshannon(np.clip(identical_category_scores, 0.001, None), np.clip(different_category_scores, 0.001, None)))\n",
    "print(\"Wasserstein distance: \", wasserstein_distance(identical_category_scores, different_category_scores))"
   ]
  },
  {
   "cell_type": "code",
   "execution_count": null,
   "id": "c1cf5c2a",
   "metadata": {},
   "outputs": [],
   "source": []
  }
 ],
 "metadata": {
  "kernelspec": {
   "display_name": "stagem2",
   "language": "python",
   "name": "stage"
  },
  "language_info": {
   "codemirror_mode": {
    "name": "ipython",
    "version": 3
   },
   "file_extension": ".py",
   "mimetype": "text/x-python",
   "name": "python",
   "nbconvert_exporter": "python",
   "pygments_lexer": "ipython3",
   "version": "3.11.3"
  }
 },
 "nbformat": 4,
 "nbformat_minor": 5
}

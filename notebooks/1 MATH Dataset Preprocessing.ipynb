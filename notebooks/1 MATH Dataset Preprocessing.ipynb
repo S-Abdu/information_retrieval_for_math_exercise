{
 "cells": [
  {
   "cell_type": "code",
   "execution_count": 1,
   "id": "QJZmRjWNKnqu",
   "metadata": {
    "colab": {
     "base_uri": "https://localhost:8080/",
     "height": 1000
    },
    "executionInfo": {
     "elapsed": 216827,
     "status": "ok",
     "timestamp": 1686668159278,
     "user": {
      "displayName": "Abdurrahman Shahid",
      "userId": "13494659055717395145"
     },
     "user_tz": -120
    },
    "id": "QJZmRjWNKnqu",
    "outputId": "7c7f397a-8945-444c-d848-9c39dedebc4a"
   },
   "outputs": [
    {
     "name": "stdout",
     "output_type": "stream",
     "text": [
      "Looking in indexes: https://pypi.org/simple, https://us-python.pkg.dev/colab-wheels/public/simple/\n",
      "Collecting ipython==8.12.0\n",
      "  Using cached ipython-8.12.0-py3-none-any.whl (796 kB)\n",
      "Requirement already satisfied: matplotlib==3.7.1 in /usr/local/lib/python3.10/dist-packages (3.7.1)\n",
      "Collecting numpy==1.23.5\n",
      "  Using cached numpy-1.23.5-cp310-cp310-manylinux_2_17_x86_64.manylinux2014_x86_64.whl (17.1 MB)\n",
      "Collecting opensearch_py==2.2.0\n",
      "  Using cached opensearch_py-2.2.0-py2.py3-none-any.whl (291 kB)\n",
      "Requirement already satisfied: pandas==1.5.3 in /usr/local/lib/python3.10/dist-packages (1.5.3)\n",
      "Requirement already satisfied: scikit_learn==1.2.2 in /usr/local/lib/python3.10/dist-packages (1.2.2)\n",
      "Collecting scipy==1.10.0\n",
      "  Using cached scipy-1.10.0-cp310-cp310-manylinux_2_17_x86_64.manylinux2014_x86_64.whl (34.4 MB)\n",
      "Collecting sentence_transformers==2.2.2\n",
      "  Using cached sentence-transformers-2.2.2.tar.gz (85 kB)\n",
      "  Preparing metadata (setup.py) ... \u001b[?25l\u001b[?25hdone\n",
      "Collecting torch==2.0.0\n",
      "  Using cached torch-2.0.0-cp310-cp310-manylinux1_x86_64.whl (619.9 MB)\n",
      "Requirement already satisfied: tqdm==4.65.0 in /usr/local/lib/python3.10/dist-packages (4.65.0)\n",
      "Requirement already satisfied: backcall in /usr/local/lib/python3.10/dist-packages (from ipython==8.12.0) (0.2.0)\n",
      "Requirement already satisfied: decorator in /usr/local/lib/python3.10/dist-packages (from ipython==8.12.0) (4.4.2)\n",
      "Collecting jedi>=0.16 (from ipython==8.12.0)\n",
      "  Downloading jedi-0.18.2-py2.py3-none-any.whl (1.6 MB)\n",
      "\u001b[2K     \u001b[90m━━━━━━━━━━━━━━━━━━━━━━━━━━━━━━━━━━━━━━━━\u001b[0m \u001b[32m1.6/1.6 MB\u001b[0m \u001b[31m19.4 MB/s\u001b[0m eta \u001b[36m0:00:00\u001b[0m\n",
      "\u001b[?25hRequirement already satisfied: matplotlib-inline in /usr/local/lib/python3.10/dist-packages (from ipython==8.12.0) (0.1.6)\n",
      "Requirement already satisfied: pickleshare in /usr/local/lib/python3.10/dist-packages (from ipython==8.12.0) (0.7.5)\n",
      "Requirement already satisfied: prompt-toolkit!=3.0.37,<3.1.0,>=3.0.30 in /usr/local/lib/python3.10/dist-packages (from ipython==8.12.0) (3.0.38)\n",
      "Requirement already satisfied: pygments>=2.4.0 in /usr/local/lib/python3.10/dist-packages (from ipython==8.12.0) (2.14.0)\n",
      "Collecting stack-data (from ipython==8.12.0)\n",
      "  Downloading stack_data-0.6.2-py3-none-any.whl (24 kB)\n",
      "Requirement already satisfied: traitlets>=5 in /usr/local/lib/python3.10/dist-packages (from ipython==8.12.0) (5.7.1)\n",
      "Requirement already satisfied: pexpect>4.3 in /usr/local/lib/python3.10/dist-packages (from ipython==8.12.0) (4.8.0)\n",
      "Requirement already satisfied: contourpy>=1.0.1 in /usr/local/lib/python3.10/dist-packages (from matplotlib==3.7.1) (1.0.7)\n",
      "Requirement already satisfied: cycler>=0.10 in /usr/local/lib/python3.10/dist-packages (from matplotlib==3.7.1) (0.11.0)\n",
      "Requirement already satisfied: fonttools>=4.22.0 in /usr/local/lib/python3.10/dist-packages (from matplotlib==3.7.1) (4.39.3)\n",
      "Requirement already satisfied: kiwisolver>=1.0.1 in /usr/local/lib/python3.10/dist-packages (from matplotlib==3.7.1) (1.4.4)\n",
      "Requirement already satisfied: packaging>=20.0 in /usr/local/lib/python3.10/dist-packages (from matplotlib==3.7.1) (23.1)\n",
      "Requirement already satisfied: pillow>=6.2.0 in /usr/local/lib/python3.10/dist-packages (from matplotlib==3.7.1) (8.4.0)\n",
      "Requirement already satisfied: pyparsing>=2.3.1 in /usr/local/lib/python3.10/dist-packages (from matplotlib==3.7.1) (3.0.9)\n",
      "Requirement already satisfied: python-dateutil>=2.7 in /usr/local/lib/python3.10/dist-packages (from matplotlib==3.7.1) (2.8.2)\n",
      "Requirement already satisfied: urllib3<2,>=1.21.1 in /usr/local/lib/python3.10/dist-packages (from opensearch_py==2.2.0) (1.26.15)\n",
      "Requirement already satisfied: requests<3.0.0,>=2.4.0 in /usr/local/lib/python3.10/dist-packages (from opensearch_py==2.2.0) (2.27.1)\n",
      "Requirement already satisfied: six in /usr/local/lib/python3.10/dist-packages (from opensearch_py==2.2.0) (1.16.0)\n",
      "Requirement already satisfied: certifi>=2022.12.07 in /usr/local/lib/python3.10/dist-packages (from opensearch_py==2.2.0) (2022.12.7)\n",
      "Requirement already satisfied: pytz>=2020.1 in /usr/local/lib/python3.10/dist-packages (from pandas==1.5.3) (2022.7.1)\n",
      "Requirement already satisfied: joblib>=1.1.1 in /usr/local/lib/python3.10/dist-packages (from scikit_learn==1.2.2) (1.2.0)\n",
      "Requirement already satisfied: threadpoolctl>=2.0.0 in /usr/local/lib/python3.10/dist-packages (from scikit_learn==1.2.2) (3.1.0)\n",
      "Collecting transformers<5.0.0,>=4.6.0 (from sentence_transformers==2.2.2)\n",
      "  Downloading transformers-4.30.1-py3-none-any.whl (7.2 MB)\n",
      "\u001b[2K     \u001b[90m━━━━━━━━━━━━━━━━━━━━━━━━━━━━━━━━━━━━━━━━\u001b[0m \u001b[32m7.2/7.2 MB\u001b[0m \u001b[31m37.7 MB/s\u001b[0m eta \u001b[36m0:00:00\u001b[0m\n",
      "\u001b[?25hRequirement already satisfied: torchvision in /usr/local/lib/python3.10/dist-packages (from sentence_transformers==2.2.2) (0.15.2+cu118)\n",
      "Requirement already satisfied: nltk in /usr/local/lib/python3.10/dist-packages (from sentence_transformers==2.2.2) (3.8.1)\n",
      "Collecting sentencepiece (from sentence_transformers==2.2.2)\n",
      "  Downloading sentencepiece-0.1.99-cp310-cp310-manylinux_2_17_x86_64.manylinux2014_x86_64.whl (1.3 MB)\n",
      "\u001b[2K     \u001b[90m━━━━━━━━━━━━━━━━━━━━━━━━━━━━━━━━━━━━━━━━\u001b[0m \u001b[32m1.3/1.3 MB\u001b[0m \u001b[31m56.0 MB/s\u001b[0m eta \u001b[36m0:00:00\u001b[0m\n",
      "\u001b[?25hCollecting huggingface-hub>=0.4.0 (from sentence_transformers==2.2.2)\n",
      "  Downloading huggingface_hub-0.15.1-py3-none-any.whl (236 kB)\n",
      "\u001b[2K     \u001b[90m━━━━━━━━━━━━━━━━━━━━━━━━━━━━━━━━━━━━━━\u001b[0m \u001b[32m236.8/236.8 kB\u001b[0m \u001b[31m16.6 MB/s\u001b[0m eta \u001b[36m0:00:00\u001b[0m\n",
      "\u001b[?25hRequirement already satisfied: filelock in /usr/local/lib/python3.10/dist-packages (from torch==2.0.0) (3.12.0)\n",
      "Requirement already satisfied: typing-extensions in /usr/local/lib/python3.10/dist-packages (from torch==2.0.0) (4.5.0)\n",
      "Requirement already satisfied: sympy in /usr/local/lib/python3.10/dist-packages (from torch==2.0.0) (1.11.1)\n",
      "Requirement already satisfied: networkx in /usr/local/lib/python3.10/dist-packages (from torch==2.0.0) (3.1)\n",
      "Requirement already satisfied: jinja2 in /usr/local/lib/python3.10/dist-packages (from torch==2.0.0) (3.1.2)\n",
      "Collecting nvidia-cuda-nvrtc-cu11==11.7.99 (from torch==2.0.0)\n",
      "  Downloading nvidia_cuda_nvrtc_cu11-11.7.99-2-py3-none-manylinux1_x86_64.whl (21.0 MB)\n",
      "\u001b[2K     \u001b[90m━━━━━━━━━━━━━━━━━━━━━━━━━━━━━━━━━━━━━━━━\u001b[0m \u001b[32m21.0/21.0 MB\u001b[0m \u001b[31m41.9 MB/s\u001b[0m eta \u001b[36m0:00:00\u001b[0m\n",
      "\u001b[?25hCollecting nvidia-cuda-runtime-cu11==11.7.99 (from torch==2.0.0)\n",
      "  Downloading nvidia_cuda_runtime_cu11-11.7.99-py3-none-manylinux1_x86_64.whl (849 kB)\n",
      "\u001b[2K     \u001b[90m━━━━━━━━━━━━━━━━━━━━━━━━━━━━━━━━━━━━━━\u001b[0m \u001b[32m849.3/849.3 kB\u001b[0m \u001b[31m51.8 MB/s\u001b[0m eta \u001b[36m0:00:00\u001b[0m\n",
      "\u001b[?25hCollecting nvidia-cuda-cupti-cu11==11.7.101 (from torch==2.0.0)\n",
      "  Downloading nvidia_cuda_cupti_cu11-11.7.101-py3-none-manylinux1_x86_64.whl (11.8 MB)\n",
      "\u001b[2K     \u001b[90m━━━━━━━━━━━━━━━━━━━━━━━━━━━━━━━━━━━━━━━━\u001b[0m \u001b[32m11.8/11.8 MB\u001b[0m \u001b[31m63.4 MB/s\u001b[0m eta \u001b[36m0:00:00\u001b[0m\n",
      "\u001b[?25hCollecting nvidia-cudnn-cu11==8.5.0.96 (from torch==2.0.0)\n",
      "  Downloading nvidia_cudnn_cu11-8.5.0.96-2-py3-none-manylinux1_x86_64.whl (557.1 MB)\n",
      "\u001b[2K     \u001b[90m━━━━━━━━━━━━━━━━━━━━━━━━━━━━━━━━━━━━━━━\u001b[0m \u001b[32m557.1/557.1 MB\u001b[0m \u001b[31m1.9 MB/s\u001b[0m eta \u001b[36m0:00:00\u001b[0m\n",
      "\u001b[?25hCollecting nvidia-cublas-cu11==11.10.3.66 (from torch==2.0.0)\n",
      "  Downloading nvidia_cublas_cu11-11.10.3.66-py3-none-manylinux1_x86_64.whl (317.1 MB)\n",
      "\u001b[2K     \u001b[90m━━━━━━━━━━━━━━━━━━━━━━━━━━━━━━━━━━━━━━━\u001b[0m \u001b[32m317.1/317.1 MB\u001b[0m \u001b[31m2.5 MB/s\u001b[0m eta \u001b[36m0:00:00\u001b[0m\n",
      "\u001b[?25hCollecting nvidia-cufft-cu11==10.9.0.58 (from torch==2.0.0)\n",
      "  Downloading nvidia_cufft_cu11-10.9.0.58-py3-none-manylinux1_x86_64.whl (168.4 MB)\n",
      "\u001b[2K     \u001b[90m━━━━━━━━━━━━━━━━━━━━━━━━━━━━━━━━━━━━━━━\u001b[0m \u001b[32m168.4/168.4 MB\u001b[0m \u001b[31m2.4 MB/s\u001b[0m eta \u001b[36m0:00:00\u001b[0m\n",
      "\u001b[?25hCollecting nvidia-curand-cu11==10.2.10.91 (from torch==2.0.0)\n",
      "  Downloading nvidia_curand_cu11-10.2.10.91-py3-none-manylinux1_x86_64.whl (54.6 MB)\n",
      "\u001b[2K     \u001b[90m━━━━━━━━━━━━━━━━━━━━━━━━━━━━━━━━━━━━━━━━\u001b[0m \u001b[32m54.6/54.6 MB\u001b[0m \u001b[31m10.9 MB/s\u001b[0m eta \u001b[36m0:00:00\u001b[0m\n",
      "\u001b[?25hCollecting nvidia-cusolver-cu11==11.4.0.1 (from torch==2.0.0)\n",
      "  Downloading nvidia_cusolver_cu11-11.4.0.1-2-py3-none-manylinux1_x86_64.whl (102.6 MB)\n",
      "\u001b[2K     \u001b[90m━━━━━━━━━━━━━━━━━━━━━━━━━━━━━━━━━━━━━━━\u001b[0m \u001b[32m102.6/102.6 MB\u001b[0m \u001b[31m9.3 MB/s\u001b[0m eta \u001b[36m0:00:00\u001b[0m\n",
      "\u001b[?25hCollecting nvidia-cusparse-cu11==11.7.4.91 (from torch==2.0.0)\n",
      "  Downloading nvidia_cusparse_cu11-11.7.4.91-py3-none-manylinux1_x86_64.whl (173.2 MB)\n",
      "\u001b[2K     \u001b[90m━━━━━━━━━━━━━━━━━━━━━━━━━━━━━━━━━━━━━━━\u001b[0m \u001b[32m173.2/173.2 MB\u001b[0m \u001b[31m1.1 MB/s\u001b[0m eta \u001b[36m0:00:00\u001b[0m\n",
      "\u001b[?25hCollecting nvidia-nccl-cu11==2.14.3 (from torch==2.0.0)\n",
      "  Downloading nvidia_nccl_cu11-2.14.3-py3-none-manylinux1_x86_64.whl (177.1 MB)\n",
      "\u001b[2K     \u001b[90m━━━━━━━━━━━━━━━━━━━━━━━━━━━━━━━━━━━━━━━\u001b[0m \u001b[32m177.1/177.1 MB\u001b[0m \u001b[31m2.5 MB/s\u001b[0m eta \u001b[36m0:00:00\u001b[0m\n",
      "\u001b[?25hCollecting nvidia-nvtx-cu11==11.7.91 (from torch==2.0.0)\n",
      "  Downloading nvidia_nvtx_cu11-11.7.91-py3-none-manylinux1_x86_64.whl (98 kB)\n",
      "\u001b[2K     \u001b[90m━━━━━━━━━━━━━━━━━━━━━━━━━━━━━━━━━━━━━━━━\u001b[0m \u001b[32m98.6/98.6 kB\u001b[0m \u001b[31m10.7 MB/s\u001b[0m eta \u001b[36m0:00:00\u001b[0m\n",
      "\u001b[?25hRequirement already satisfied: triton==2.0.0 in /usr/local/lib/python3.10/dist-packages (from torch==2.0.0) (2.0.0)\n",
      "Requirement already satisfied: setuptools in /usr/local/lib/python3.10/dist-packages (from nvidia-cublas-cu11==11.10.3.66->torch==2.0.0) (67.7.2)\n",
      "Requirement already satisfied: wheel in /usr/local/lib/python3.10/dist-packages (from nvidia-cublas-cu11==11.10.3.66->torch==2.0.0) (0.40.0)\n",
      "Requirement already satisfied: cmake in /usr/local/lib/python3.10/dist-packages (from triton==2.0.0->torch==2.0.0) (3.25.2)\n",
      "Requirement already satisfied: lit in /usr/local/lib/python3.10/dist-packages (from triton==2.0.0->torch==2.0.0) (16.0.5)\n",
      "Requirement already satisfied: fsspec in /usr/local/lib/python3.10/dist-packages (from huggingface-hub>=0.4.0->sentence_transformers==2.2.2) (2023.4.0)\n",
      "Requirement already satisfied: pyyaml>=5.1 in /usr/local/lib/python3.10/dist-packages (from huggingface-hub>=0.4.0->sentence_transformers==2.2.2) (6.0)\n",
      "Requirement already satisfied: parso<0.9.0,>=0.8.0 in /usr/local/lib/python3.10/dist-packages (from jedi>=0.16->ipython==8.12.0) (0.8.3)\n",
      "Requirement already satisfied: ptyprocess>=0.5 in /usr/local/lib/python3.10/dist-packages (from pexpect>4.3->ipython==8.12.0) (0.7.0)\n",
      "Requirement already satisfied: wcwidth in /usr/local/lib/python3.10/dist-packages (from prompt-toolkit!=3.0.37,<3.1.0,>=3.0.30->ipython==8.12.0) (0.2.6)\n",
      "Requirement already satisfied: charset-normalizer~=2.0.0 in /usr/local/lib/python3.10/dist-packages (from requests<3.0.0,>=2.4.0->opensearch_py==2.2.0) (2.0.12)\n",
      "Requirement already satisfied: idna<4,>=2.5 in /usr/local/lib/python3.10/dist-packages (from requests<3.0.0,>=2.4.0->opensearch_py==2.2.0) (3.4)\n",
      "Requirement already satisfied: regex!=2019.12.17 in /usr/local/lib/python3.10/dist-packages (from transformers<5.0.0,>=4.6.0->sentence_transformers==2.2.2) (2022.10.31)\n",
      "Collecting tokenizers!=0.11.3,<0.14,>=0.11.1 (from transformers<5.0.0,>=4.6.0->sentence_transformers==2.2.2)\n",
      "  Downloading tokenizers-0.13.3-cp310-cp310-manylinux_2_17_x86_64.manylinux2014_x86_64.whl (7.8 MB)\n",
      "\u001b[2K     \u001b[90m━━━━━━━━━━━━━━━━━━━━━━━━━━━━━━━━━━━━━━━━\u001b[0m \u001b[32m7.8/7.8 MB\u001b[0m \u001b[31m107.7 MB/s\u001b[0m eta \u001b[36m0:00:00\u001b[0m\n",
      "\u001b[?25hCollecting safetensors>=0.3.1 (from transformers<5.0.0,>=4.6.0->sentence_transformers==2.2.2)\n",
      "  Downloading safetensors-0.3.1-cp310-cp310-manylinux_2_17_x86_64.manylinux2014_x86_64.whl (1.3 MB)\n",
      "\u001b[2K     \u001b[90m━━━━━━━━━━━━━━━━━━━━━━━━━━━━━━━━━━━━━━━━\u001b[0m \u001b[32m1.3/1.3 MB\u001b[0m \u001b[31m73.1 MB/s\u001b[0m eta \u001b[36m0:00:00\u001b[0m\n",
      "\u001b[?25hRequirement already satisfied: MarkupSafe>=2.0 in /usr/local/lib/python3.10/dist-packages (from jinja2->torch==2.0.0) (2.1.2)\n",
      "Requirement already satisfied: click in /usr/local/lib/python3.10/dist-packages (from nltk->sentence_transformers==2.2.2) (8.1.3)\n",
      "Collecting executing>=1.2.0 (from stack-data->ipython==8.12.0)\n",
      "  Downloading executing-1.2.0-py2.py3-none-any.whl (24 kB)\n",
      "Collecting asttokens>=2.1.0 (from stack-data->ipython==8.12.0)\n",
      "  Downloading asttokens-2.2.1-py2.py3-none-any.whl (26 kB)\n",
      "Collecting pure-eval (from stack-data->ipython==8.12.0)\n",
      "  Downloading pure_eval-0.2.2-py3-none-any.whl (11 kB)\n",
      "Requirement already satisfied: mpmath>=0.19 in /usr/local/lib/python3.10/dist-packages (from sympy->torch==2.0.0) (1.3.0)\n",
      "INFO: pip is looking at multiple versions of torchvision to determine which version is compatible with other requirements. This could take a while.\n",
      "Collecting torchvision (from sentence_transformers==2.2.2)\n",
      "  Downloading torchvision-0.15.2-cp310-cp310-manylinux1_x86_64.whl (6.0 MB)\n",
      "\u001b[2K     \u001b[90m━━━━━━━━━━━━━━━━━━━━━━━━━━━━━━━━━━━━━━━━\u001b[0m \u001b[32m6.0/6.0 MB\u001b[0m \u001b[31m80.1 MB/s\u001b[0m eta \u001b[36m0:00:00\u001b[0m\n",
      "\u001b[?25h  Downloading torchvision-0.15.1-cp310-cp310-manylinux1_x86_64.whl (6.0 MB)\n",
      "\u001b[2K     \u001b[90m━━━━━━━━━━━━━━━━━━━━━━━━━━━━━━━━━━━━━━━━\u001b[0m \u001b[32m6.0/6.0 MB\u001b[0m \u001b[31m67.9 MB/s\u001b[0m eta \u001b[36m0:00:00\u001b[0m\n",
      "\u001b[?25hBuilding wheels for collected packages: sentence_transformers\n",
      "  Building wheel for sentence_transformers (setup.py) ... \u001b[?25l\u001b[?25hdone\n",
      "  Created wheel for sentence_transformers: filename=sentence_transformers-2.2.2-py3-none-any.whl size=125926 sha256=1a506836a03d05548576915b49bdd8694f7e412cdec295311ee0a5a9e5e2ac3f\n",
      "  Stored in directory: /root/.cache/pip/wheels/62/f2/10/1e606fd5f02395388f74e7462910fe851042f97238cbbd902f\n",
      "Successfully built sentence_transformers\n",
      "Installing collected packages: tokenizers, sentencepiece, safetensors, pure-eval, executing, nvidia-nvtx-cu11, nvidia-nccl-cu11, nvidia-cusparse-cu11, nvidia-curand-cu11, nvidia-cufft-cu11, nvidia-cuda-runtime-cu11, nvidia-cuda-nvrtc-cu11, nvidia-cuda-cupti-cu11, nvidia-cublas-cu11, numpy, jedi, asttokens, stack-data, scipy, opensearch_py, nvidia-cusolver-cu11, nvidia-cudnn-cu11, huggingface-hub, transformers, ipython, torch, torchvision, sentence_transformers\n",
      "  Attempting uninstall: numpy\n",
      "    Found existing installation: numpy 1.22.4\n",
      "    Uninstalling numpy-1.22.4:\n",
      "      Successfully uninstalled numpy-1.22.4\n",
      "  Attempting uninstall: scipy\n",
      "    Found existing installation: scipy 1.10.1\n",
      "    Uninstalling scipy-1.10.1:\n",
      "      Successfully uninstalled scipy-1.10.1\n",
      "  Attempting uninstall: ipython\n",
      "    Found existing installation: ipython 7.34.0\n",
      "    Uninstalling ipython-7.34.0:\n",
      "      Successfully uninstalled ipython-7.34.0\n",
      "  Attempting uninstall: torch\n",
      "    Found existing installation: torch 2.0.1+cu118\n",
      "    Uninstalling torch-2.0.1+cu118:\n",
      "      Successfully uninstalled torch-2.0.1+cu118\n",
      "  Attempting uninstall: torchvision\n",
      "    Found existing installation: torchvision 0.15.2+cu118\n",
      "    Uninstalling torchvision-0.15.2+cu118:\n",
      "      Successfully uninstalled torchvision-0.15.2+cu118\n",
      "\u001b[31mERROR: pip's dependency resolver does not currently take into account all the packages that are installed. This behaviour is the source of the following dependency conflicts.\n",
      "google-colab 1.0.0 requires ipython==7.34.0, but you have ipython 8.12.0 which is incompatible.\n",
      "torchaudio 2.0.2+cu118 requires torch==2.0.1, but you have torch 2.0.0 which is incompatible.\n",
      "torchdata 0.6.1 requires torch==2.0.1, but you have torch 2.0.0 which is incompatible.\n",
      "torchtext 0.15.2 requires torch==2.0.1, but you have torch 2.0.0 which is incompatible.\u001b[0m\u001b[31m\n",
      "\u001b[0mSuccessfully installed asttokens-2.2.1 executing-1.2.0 huggingface-hub-0.15.1 ipython-8.12.0 jedi-0.18.2 numpy-1.23.5 nvidia-cublas-cu11-11.10.3.66 nvidia-cuda-cupti-cu11-11.7.101 nvidia-cuda-nvrtc-cu11-11.7.99 nvidia-cuda-runtime-cu11-11.7.99 nvidia-cudnn-cu11-8.5.0.96 nvidia-cufft-cu11-10.9.0.58 nvidia-curand-cu11-10.2.10.91 nvidia-cusolver-cu11-11.4.0.1 nvidia-cusparse-cu11-11.7.4.91 nvidia-nccl-cu11-2.14.3 nvidia-nvtx-cu11-11.7.91 opensearch_py-2.2.0 pure-eval-0.2.2 safetensors-0.3.1 scipy-1.10.0 sentence_transformers-2.2.2 sentencepiece-0.1.99 stack-data-0.6.2 tokenizers-0.13.3 torch-2.0.0 torchvision-0.15.1 transformers-4.30.1\n"
     ]
    },
    {
     "data": {
      "application/vnd.colab-display-data+json": {
       "pip_warning": {
        "packages": [
         "IPython",
         "numpy"
        ]
       }
      }
     },
     "metadata": {},
     "output_type": "display_data"
    }
   ],
   "source": [
    "#!pip install ipython==8.12.0 matplotlib==3.7.1 numpy==1.23.5 opensearch_py==2.2.0 pandas==1.5.3 scikit_learn==1.2.2 scipy==1.10.0 sentence_transformers==2.2.2 torch==2.0.0 tqdm==4.65.0"
   ]
  },
  {
   "cell_type": "code",
   "execution_count": 8,
   "id": "87JZs_E0LqXC",
   "metadata": {
    "colab": {
     "base_uri": "https://localhost:8080/"
    },
    "executionInfo": {
     "elapsed": 5103,
     "status": "ok",
     "timestamp": 1686666925631,
     "user": {
      "displayName": "Abdurrahman Shahid",
      "userId": "13494659055717395145"
     },
     "user_tz": -120
    },
    "id": "87JZs_E0LqXC",
    "outputId": "bbb50ed1-eda4-4c36-b117-67b2266749fa"
   },
   "outputs": [
    {
     "name": "stdout",
     "output_type": "stream",
     "text": [
      "Looking in indexes: https://pypi.org/simple, https://us-python.pkg.dev/colab-wheels/public/simple/\n",
      "Requirement already satisfied: tqdm==4.65.0 in /usr/local/lib/python3.10/dist-packages (4.65.0)\n"
     ]
    }
   ],
   "source": [
    "#!pip install tqdm==4.65.0"
   ]
  },
  {
   "cell_type": "code",
   "execution_count": 1,
   "id": "jdKsUEMd0wdu",
   "metadata": {
    "colab": {
     "base_uri": "https://localhost:8080/"
    },
    "executionInfo": {
     "elapsed": 1872,
     "status": "ok",
     "timestamp": 1686668193474,
     "user": {
      "displayName": "Abdurrahman Shahid",
      "userId": "13494659055717395145"
     },
     "user_tz": -120
    },
    "id": "jdKsUEMd0wdu",
    "outputId": "692f9b42-ff04-4548-9e36-8e51ff57131a"
   },
   "outputs": [
    {
     "name": "stdout",
     "output_type": "stream",
     "text": [
      "Drive already mounted at /content/drive; to attempt to forcibly remount, call drive.mount(\"/content/drive\", force_remount=True).\n"
     ]
    }
   ],
   "source": [
    "#from google.colab import drive\n",
    "#drive.mount('/content/drive')"
   ]
  },
  {
   "cell_type": "code",
   "execution_count": 1,
   "id": "id7DVrnt1tYH",
   "metadata": {
    "colab": {
     "base_uri": "https://localhost:8080/",
     "height": 70
    },
    "executionInfo": {
     "elapsed": 200,
     "status": "ok",
     "timestamp": 1686668195641,
     "user": {
      "displayName": "Abdurrahman Shahid",
      "userId": "13494659055717395145"
     },
     "user_tz": -120
    },
    "id": "id7DVrnt1tYH",
    "outputId": "629c3b39-823f-4e57-9243-424a68931e01"
   },
   "outputs": [
    {
     "name": "stdout",
     "output_type": "stream",
     "text": [
      "C:\\Users\\Abdurrahman_Shahid\\Downloads\\stagedac\\notebooks\n"
     ]
    },
    {
     "data": {
      "text/plain": [
       "'C:\\\\Users\\\\Abdurrahman_Shahid\\\\Downloads\\\\stagedac\\\\notebooks'"
      ]
     },
     "execution_count": 1,
     "metadata": {},
     "output_type": "execute_result"
    }
   ],
   "source": [
    "import os\n",
    "print(os.getcwd())\n",
    "#os.chdir(\"drive/MyDrive/EdTech_confidential/Specifications/Search Engine/Stage/information_retrieval_for_maths_exercices/information_retrieval_for_maths_exercices/notebooks\")\n",
    "os.getcwd()"
   ]
  },
  {
   "cell_type": "code",
   "execution_count": 2,
   "id": "zp3T_bMc29Fa",
   "metadata": {
    "colab": {
     "base_uri": "https://localhost:8080/"
    },
    "executionInfo": {
     "elapsed": 2,
     "status": "ok",
     "timestamp": 1686668196718,
     "user": {
      "displayName": "Abdurrahman Shahid",
      "userId": "13494659055717395145"
     },
     "user_tz": -120
    },
    "id": "zp3T_bMc29Fa",
    "outputId": "3121bca9-0b7a-42b0-e015-950e306ae6c6"
   },
   "outputs": [
    {
     "data": {
      "text/plain": [
       "['.ipynb_checkpoints',\n",
       " '1 MATH Dataset Preprocessing.ipynb',\n",
       " '2 SBERT pretrained model analysis.ipynb',\n",
       " '3 SBERT Training Gradient Accumulation - ContrastiveLoss.ipynb',\n",
       " '4 Search Engine Recommender System test.ipynb',\n",
       " '5 Index Data in Opensearch.ipynb',\n",
       " '6 Compare KNN with TF-IDF.ipynb',\n",
       " 'after_finetuning.pkl',\n",
       " 'before_finetuning.pkl',\n",
       " 'custom_sentence_transformers.py',\n",
       " 'docker-compose.yml',\n",
       " '__pycache__']"
      ]
     },
     "execution_count": 2,
     "metadata": {},
     "output_type": "execute_result"
    }
   ],
   "source": [
    "os.listdir()"
   ]
  },
  {
   "cell_type": "code",
   "execution_count": 6,
   "id": "43a7cf34",
   "metadata": {
    "executionInfo": {
     "elapsed": 327,
     "status": "ok",
     "timestamp": 1686668198144,
     "user": {
      "displayName": "Abdurrahman Shahid",
      "userId": "13494659055717395145"
     },
     "user_tz": -120
    },
    "id": "43a7cf34"
   },
   "outputs": [],
   "source": [
    "import json\n",
    "\n",
    "f = open('../dataset/MATH/train/counting_and_probability/1017.json')\n",
    "data = json.load(f)\n",
    "f.close()"
   ]
  },
  {
   "cell_type": "code",
   "execution_count": 7,
   "id": "JFp31uPOKakc",
   "metadata": {
    "colab": {
     "base_uri": "https://localhost:8080/"
    },
    "executionInfo": {
     "elapsed": 2,
     "status": "ok",
     "timestamp": 1686668199143,
     "user": {
      "displayName": "Abdurrahman Shahid",
      "userId": "13494659055717395145"
     },
     "user_tz": -120
    },
    "id": "JFp31uPOKakc",
    "outputId": "b2f5f960-8681-484f-9069-d89856bbd30a"
   },
   "outputs": [
    {
     "data": {
      "text/plain": [
       "{'problem': 'Three cards are dealt at random from a standard deck of 52 cards.  What is the probability that the first card is a Jack, the second card is a Queen, and the third card is a King? Assuming the dealing is done without replacement.',\n",
       " 'level': 'Level 3',\n",
       " 'type': 'Counting & Probability',\n",
       " 'solution': 'The probability is $\\\\dfrac{4}{52} \\\\times \\\\dfrac{4}{51} \\\\times \\\\dfrac{4}{50} = \\\\boxed{\\\\frac{8}{16575}}$.'}"
      ]
     },
     "execution_count": 7,
     "metadata": {},
     "output_type": "execute_result"
    }
   ],
   "source": [
    "data"
   ]
  },
  {
   "cell_type": "code",
   "execution_count": 8,
   "id": "63220b9d",
   "metadata": {
    "colab": {
     "base_uri": "https://localhost:8080/"
    },
    "executionInfo": {
     "elapsed": 450,
     "status": "ok",
     "timestamp": 1686668200766,
     "user": {
      "displayName": "Abdurrahman Shahid",
      "userId": "13494659055717395145"
     },
     "user_tz": -120
    },
    "id": "63220b9d",
    "outputId": "fa7f0c8c-75ab-4a82-cf66-08d7c54a1212"
   },
   "outputs": [
    {
     "data": {
      "text/plain": [
       "{'problem': 'Three cards are dealt at random from a standard deck of 52 cards.  What is the probability that the first card is a Jack, the second card is a Queen, and the third card is a King? Assuming the dealing is done without replacement.',\n",
       " 'level': 'Level 3',\n",
       " 'type': 'Counting & Probability',\n",
       " 'solution': 'The probability is $\\\\dfrac{4}{52} \\\\times \\\\dfrac{4}{51} \\\\times \\\\dfrac{4}{50} = \\\\boxed{\\\\frac{8}{16575}}$.'}"
      ]
     },
     "execution_count": 8,
     "metadata": {},
     "output_type": "execute_result"
    }
   ],
   "source": [
    "data"
   ]
  },
  {
   "cell_type": "code",
   "execution_count": 9,
   "id": "cab7b54d",
   "metadata": {
    "colab": {
     "base_uri": "https://localhost:8080/",
     "height": 76
    },
    "executionInfo": {
     "elapsed": 233,
     "status": "ok",
     "timestamp": 1686668209968,
     "user": {
      "displayName": "Abdurrahman Shahid",
      "userId": "13494659055717395145"
     },
     "user_tz": -120
    },
    "id": "cab7b54d",
    "outputId": "6c406c41-7dcb-4f8b-a179-cf7944ef2b5f"
   },
   "outputs": [
    {
     "data": {
      "text/latex": [
       "Three cards are dealt at random from a standard deck of 52 cards.  What is the probability that the first card is a Jack, the second card is a Queen, and the third card is a King? Assuming the dealing is done without replacement."
      ],
      "text/plain": [
       "<IPython.core.display.Latex object>"
      ]
     },
     "metadata": {},
     "output_type": "display_data"
    },
    {
     "data": {
      "text/latex": [
       "The probability is $\\dfrac{4}{52} \\times \\dfrac{4}{51} \\times \\dfrac{4}{50} = \\boxed{\\frac{8}{16575}}$."
      ],
      "text/plain": [
       "<IPython.core.display.Latex object>"
      ]
     },
     "metadata": {},
     "output_type": "display_data"
    }
   ],
   "source": [
    "from IPython.display import display, Latex\n",
    "\n",
    "display(Latex(data['problem']))\n",
    "display(Latex(data['solution']))"
   ]
  },
  {
   "cell_type": "code",
   "execution_count": 10,
   "id": "0a69e975",
   "metadata": {
    "colab": {
     "base_uri": "https://localhost:8080/",
     "height": 963
    },
    "executionInfo": {
     "elapsed": 2644,
     "status": "ok",
     "timestamp": 1686668213730,
     "user": {
      "displayName": "Abdurrahman Shahid",
      "userId": "13494659055717395145"
     },
     "user_tz": -120
    },
    "id": "0a69e975",
    "outputId": "65a4c71e-f994-4d50-e7cb-daf17ffa7631"
   },
   "outputs": [
    {
     "name": "stdout",
     "output_type": "stream",
     "text": [
      "Train exercice  7500\n",
      "Test exercice 5000\n",
      "\n",
      "\n"
     ]
    },
    {
     "data": {
      "text/latex": [
       "====================METADATA===================="
      ],
      "text/plain": [
       "<IPython.core.display.Latex object>"
      ]
     },
     "metadata": {},
     "output_type": "display_data"
    },
    {
     "data": {
      "text/latex": [
       "Type: Precalculus"
      ],
      "text/plain": [
       "<IPython.core.display.Latex object>"
      ]
     },
     "metadata": {},
     "output_type": "display_data"
    },
    {
     "data": {
      "text/latex": [
       "Path: ../dataset/MATH/train\\precalculus\\533.json"
      ],
      "text/plain": [
       "<IPython.core.display.Latex object>"
      ]
     },
     "metadata": {},
     "output_type": "display_data"
    },
    {
     "data": {
      "text/latex": [
       "ID: MATH_train\\precalculus\\533"
      ],
      "text/plain": [
       "<IPython.core.display.Latex object>"
      ]
     },
     "metadata": {},
     "output_type": "display_data"
    },
    {
     "data": {
      "text/latex": [
       "Level: Level 3"
      ],
      "text/plain": [
       "<IPython.core.display.Latex object>"
      ]
     },
     "metadata": {},
     "output_type": "display_data"
    },
    {
     "data": {
      "text/latex": [
       "====================EXERCICE===================="
      ],
      "text/plain": [
       "<IPython.core.display.Latex object>"
      ]
     },
     "metadata": {},
     "output_type": "display_data"
    },
    {
     "data": {
      "text/latex": [
       "Let $\\mathcal{T}$ be the set of ordered triples $(x,y,z)$ of nonnegative real numbers that lie in the plane $x+y+z=1.$ Let us say that $(x,y,z)$ supports $(a,b,c)$ when exactly two of the following are true: $x\\ge a, y\\ge b, z\\ge c.$ Let $\\mathcal{S}$ consist of those triples in $\\mathcal{T}$ that support $\\left(\\frac 12,\\frac 13,\\frac 16\\right).$  Find the area of $\\mathcal{S}$ divided by the area of $\\mathcal{T}.$"
      ],
      "text/plain": [
       "<IPython.core.display.Latex object>"
      ]
     },
     "metadata": {},
     "output_type": "display_data"
    },
    {
     "data": {
      "text/latex": [
       "====================SOLUTION===================="
      ],
      "text/plain": [
       "<IPython.core.display.Latex object>"
      ]
     },
     "metadata": {},
     "output_type": "display_data"
    },
    {
     "data": {
      "text/latex": [
       "We see that $\\mathcal{T}$ is the triangle whose vertices are $(1,0,0),$ $(0,1,0),$ and $(0,0,1).$  We are looking for the points $(x,y,z) \\in \\mathcal{T}$ such that exactly two of the following inequalities hold: $x \\ge \\frac{1}{2},$ $y \\ge \\frac{1}{3},$ and $z \\ge \\frac{1}{6}.$\n",
       "\n",
       "The plane $x = \\frac{1}{2}$ cuts triangle $\\mathcal{T}$ in a line that is parallel to one of its sides.  The same holds for the planes $y = \\frac{1}{3}$ and $z = \\frac{1}{6}.$\n",
       "\n",
       "Let $\\mathcal{A}$ be the set of points in $\\mathcal{T}$ such that $x \\ge \\frac{1}{2}$ and $y \\ge \\frac{1}{3}.$  Then the inequality $z \\le \\frac{1}{6}$ is automatically satisfied, and $z = \\frac{1}{6}$ only for the point $\\left( \\frac{1}{2}, \\frac{1}{3}, \\frac{1}{6} \\right).$  Thus, $\\mathcal{A}$ is a triangle which is similar to $\\mathcal{T},$ and the ratio of their areas is $\\frac{1}{6^2} = \\frac{1}{36}.$\n",
       "\n",
       "[asy]\n",
       "import three;\n",
       "\n",
       "size(220);\n",
       "currentprojection = perspective(6,3,2);\n",
       "\n",
       "triple P = (1/2,1/3,1/6), Q = (5/6,0,1/6), R = (1/2,0,1/2), S = (0,1/3,2/3), T = (0,5/6,1/6), U = (1/2,1/2,0), V = (2/3,1/3,0);\n",
       "\n",
       "draw(surface(P--Q--R--cycle),paleyellow,nolight);\n",
       "draw(surface(P--S--T--cycle),paleyellow,nolight);\n",
       "draw(surface(P--U--V--cycle),paleyellow,nolight);\n",
       "draw((1,0,0)--(0,1,0)--(0,0,1)--cycle);\n",
       "draw((0,0,0)--(1,0,0),dashed);\n",
       "draw((0,0,0)--(0,1,0),dashed);\n",
       "draw((0,0,0)--(0,0,1),dashed);\n",
       "draw(Q--T);\n",
       "draw(R--U);\n",
       "draw(S--V);\n",
       "draw((1,0,0)--(1.2,0,0),Arrow3(6));\n",
       "draw((0,1,0)--(0,1.2,0),Arrow3(6));\n",
       "draw((0,0,1)--(0,0,1.2),Arrow3(6));\n",
       "\n",
       "label(\"$x$\", (1.3,0,0));\n",
       "label(\"$y$\", (0,1.3,0));\n",
       "label(\"$z$\", (0,0,1.3));\n",
       "label(\"$x = \\frac{1}{2}$\", R, W);\n",
       "label(\"$y = \\frac{1}{3}$\", S, NE);\n",
       "label(\"$z = \\frac{1}{6}$\", T, NE);\n",
       "label(\"$\\mathcal{A}$\", (P + U + V)/3);\n",
       "label(\"$\\mathcal{B}$\", (P + Q + R)/3);\n",
       "label(\"$\\mathcal{C}$\", (P + S + T)/3);\n",
       "[/asy]\n",
       "\n",
       "Likewise, let $\\mathcal{B}$ be the set of points in $\\mathcal{T}$ such that $x \\ge \\frac{1}{2}$ and $z \\ge \\frac{1}{6},$ and let $\\mathcal{C}$ be the set of points in $\\mathcal{T}$ such that $y \\ge \\frac{1}{3}$ and $z \\ge \\frac{1}{6}.$  Then $\\mathcal{B}$ and $\\mathcal{C}$ are triangles that are also similar to $\\mathcal{T},$ and the ratio of their areas to the area of $\\mathcal{T}$ are $\\frac{1}{3^2} = \\frac{1}{9}$ and $\\frac{1}{2^2} = \\frac{1}{4},$ respectively.\n",
       "\n",
       "Therefore, the area of $\\mathcal{S}$ divided by the area of $\\mathcal{T}$ is $\\frac{1}{36} + \\frac{1}{9} + \\frac{1}{4} = \\boxed{\\frac{7}{18}}.$"
      ],
      "text/plain": [
       "<IPython.core.display.Latex object>"
      ]
     },
     "metadata": {},
     "output_type": "display_data"
    },
    {
     "name": "stdout",
     "output_type": "stream",
     "text": [
      "\n",
      "\n"
     ]
    },
    {
     "data": {
      "text/latex": [
       "====================METADATA===================="
      ],
      "text/plain": [
       "<IPython.core.display.Latex object>"
      ]
     },
     "metadata": {},
     "output_type": "display_data"
    },
    {
     "data": {
      "text/latex": [
       "Type: Precalculus"
      ],
      "text/plain": [
       "<IPython.core.display.Latex object>"
      ]
     },
     "metadata": {},
     "output_type": "display_data"
    },
    {
     "data": {
      "text/latex": [
       "Path: ../dataset/MATH/train\\precalculus\\8004.json"
      ],
      "text/plain": [
       "<IPython.core.display.Latex object>"
      ]
     },
     "metadata": {},
     "output_type": "display_data"
    },
    {
     "data": {
      "text/latex": [
       "ID: MATH_train\\precalculus\\8004"
      ],
      "text/plain": [
       "<IPython.core.display.Latex object>"
      ]
     },
     "metadata": {},
     "output_type": "display_data"
    },
    {
     "data": {
      "text/latex": [
       "Level: Level 5"
      ],
      "text/plain": [
       "<IPython.core.display.Latex object>"
      ]
     },
     "metadata": {},
     "output_type": "display_data"
    },
    {
     "data": {
      "text/latex": [
       "====================EXERCICE===================="
      ],
      "text/plain": [
       "<IPython.core.display.Latex object>"
      ]
     },
     "metadata": {},
     "output_type": "display_data"
    },
    {
     "data": {
      "text/latex": [
       "Given that $(1+\\sin t)(1+\\cos t)=5/4$ and\n",
       "$(1-\\sin t)(1-\\cos t)=\\frac mn-\\sqrt{k},$\n",
       "where $k, m,$ and $n$ are positive integers with $m$ and $n$ relatively prime, find $k+m+n.$\n"
      ],
      "text/plain": [
       "<IPython.core.display.Latex object>"
      ]
     },
     "metadata": {},
     "output_type": "display_data"
    },
    {
     "data": {
      "text/latex": [
       "====================SOLUTION===================="
      ],
      "text/plain": [
       "<IPython.core.display.Latex object>"
      ]
     },
     "metadata": {},
     "output_type": "display_data"
    },
    {
     "data": {
      "text/latex": [
       "From the givens, $2\\sin t \\cos t + 2 \\sin t + 2 \\cos t = \\frac{1}{2}$, and adding $\\sin^2 t + \\cos^2t = 1$ to both sides gives $(\\sin t + \\cos t)^2 + 2(\\sin t + \\cos t) = \\frac{3}{2}$. Completing the square on the left in the variable $(\\sin t + \\cos t)$ gives $\\sin t + \\cos t = -1 \\pm \\sqrt{\\frac{5}{2}}$. Since $|\\sin t + \\cos t| \\leq \\sqrt 2 < 1 + \\sqrt{\\frac{5}{2}}$, we have $\\sin t + \\cos t = \\sqrt{\\frac{5}{2}} - 1$. Subtracting twice this from our original equation gives $(\\sin t - 1)(\\cos t - 1) = \\sin t \\cos t - \\sin t - \\cos t + 1 = \\frac{13}{4} - \\sqrt{10}$, so the answer is $13 + 4 + 10 = \\boxed{27}$."
      ],
      "text/plain": [
       "<IPython.core.display.Latex object>"
      ]
     },
     "metadata": {},
     "output_type": "display_data"
    },
    {
     "name": "stdout",
     "output_type": "stream",
     "text": [
      "\n",
      "\n"
     ]
    },
    {
     "data": {
      "text/latex": [
       "====================METADATA===================="
      ],
      "text/plain": [
       "<IPython.core.display.Latex object>"
      ]
     },
     "metadata": {},
     "output_type": "display_data"
    },
    {
     "data": {
      "text/latex": [
       "Type: Geometry"
      ],
      "text/plain": [
       "<IPython.core.display.Latex object>"
      ]
     },
     "metadata": {},
     "output_type": "display_data"
    },
    {
     "data": {
      "text/latex": [
       "Path: ../dataset/MATH/train\\geometry\\731.json"
      ],
      "text/plain": [
       "<IPython.core.display.Latex object>"
      ]
     },
     "metadata": {},
     "output_type": "display_data"
    },
    {
     "data": {
      "text/latex": [
       "ID: MATH_train\\geometry\\731"
      ],
      "text/plain": [
       "<IPython.core.display.Latex object>"
      ]
     },
     "metadata": {},
     "output_type": "display_data"
    },
    {
     "data": {
      "text/latex": [
       "Level: Level 3"
      ],
      "text/plain": [
       "<IPython.core.display.Latex object>"
      ]
     },
     "metadata": {},
     "output_type": "display_data"
    },
    {
     "data": {
      "text/latex": [
       "====================EXERCICE===================="
      ],
      "text/plain": [
       "<IPython.core.display.Latex object>"
      ]
     },
     "metadata": {},
     "output_type": "display_data"
    },
    {
     "data": {
      "text/latex": [
       "What is the number of square units in the area of trapezoid ABCD with vertices A(0,0), B(0,-2), C(4,0), and D(4,6)?"
      ],
      "text/plain": [
       "<IPython.core.display.Latex object>"
      ]
     },
     "metadata": {},
     "output_type": "display_data"
    },
    {
     "data": {
      "text/latex": [
       "====================SOLUTION===================="
      ],
      "text/plain": [
       "<IPython.core.display.Latex object>"
      ]
     },
     "metadata": {},
     "output_type": "display_data"
    },
    {
     "data": {
      "text/latex": [
       "Plot the plots and observe that the bases of the trapezoid are $AB$ and $CD$.  The area of the trapezoid is the average of the lengths of the bases times the height: $\\frac{1}{2}(AB+CD)(AC)=\\frac{1}{2}(2+6)(4)=\\boxed{16}$ square units.\n",
       "\n",
       "[asy]\n",
       "size(6cm);\n",
       "import graph;\n",
       "defaultpen(linewidth(0.7)+fontsize(10));\n",
       "pair A=(0,0), B=(0,-2), C=(4,0), D=(4,6);\n",
       "pair[] dots = {A,B,C,D};\n",
       "dot(dots);\n",
       "draw(A--B--C--D--cycle);\n",
       "xaxis(-3,8,Arrows(4));\n",
       "yaxis(-3,8,Arrows(4));\n",
       "label(\"$D$\",D,N);\n",
       "label(\"$C$\",C,SSE);\n",
       "label(\"$B$\",B,W);\n",
       "label(\"$A$\",A,NW);[/asy]"
      ],
      "text/plain": [
       "<IPython.core.display.Latex object>"
      ]
     },
     "metadata": {},
     "output_type": "display_data"
    }
   ],
   "source": [
    "from IPython.display import display, Latex\n",
    "\n",
    "import random\n",
    "import json\n",
    "import glob\n",
    "\n",
    "train_exercice_path = glob.glob(\"../dataset/MATH/train/*/*\")\n",
    "test_exercice_path = glob.glob(\"../dataset/MATH/test/*/*\")\n",
    "print(\"Train exercice \", len(train_exercice_path))\n",
    "print(\"Test exercice\", len(test_exercice_path))\n",
    "\n",
    "\n",
    "for i in range(3):\n",
    "    print(\"\\n\")\n",
    "    path = random.choice(train_exercice_path)\n",
    "    f = open(path)\n",
    "    data = json.load(f)\n",
    "    f.close()\n",
    "\n",
    "    display(Latex('='*20+'METADATA'+'='*20))\n",
    "    display(Latex(\"Type: \"+ data['type']))\n",
    "    display(Latex(f\"Path: {path}\"))\n",
    "    display(Latex(\"ID: \" + \"_\".join(path.split('/')[-2:])[:-5]))\n",
    "    display(Latex(\"Level: \" + data['level']))\n",
    "    display(Latex('='*20+'EXERCICE'+'='*20))\n",
    "    display(Latex(data['problem']))\n",
    "    display(Latex('='*20+'SOLUTION'+'='*20))\n",
    "    display(Latex(data['solution']))"
   ]
  },
  {
   "cell_type": "code",
   "execution_count": 11,
   "id": "722f3042",
   "metadata": {
    "colab": {
     "base_uri": "https://localhost:8080/",
     "height": 686
    },
    "executionInfo": {
     "elapsed": 1096570,
     "status": "error",
     "timestamp": 1686669314286,
     "user": {
      "displayName": "Abdurrahman Shahid",
      "userId": "13494659055717395145"
     },
     "user_tz": -120
    },
    "id": "722f3042",
    "outputId": "03fa6b63-8416-4b32-f8bc-741e27aab45c"
   },
   "outputs": [
    {
     "name": "stdout",
     "output_type": "stream",
     "text": [
      "7500\n",
      "5000\n"
     ]
    }
   ],
   "source": [
    "from IPython.display import display, Latex\n",
    "import random\n",
    "import json\n",
    "import glob\n",
    "import os\n",
    "\n",
    "exercice_path = {}\n",
    "exercice_path[\"train\"] = glob.glob(\"../dataset/MATH/train/*/*\")\n",
    "exercice_path[\"test\"] = glob.glob(\"../dataset/MATH/test/*/*\")\n",
    "print(len(exercice_path[\"train\"]))\n",
    "print(len(exercice_path[\"test\"]))\n",
    "\n",
    "exercice_records = []\n",
    "\n",
    "for split in [\"train\", \"test\"]:\n",
    "    for path in exercice_path[split]:\n",
    "        f = open(path)\n",
    "        data = json.load(f)\n",
    "        path = os.path.normpath(path)\n",
    "        data[\"id\"] = \"_\".join(path.split(os.sep)[-2:])[:-5]\n",
    "        data[\"source\"] = split\n",
    "        exercice_records.append(data)\n",
    "        f.close()"
   ]
  },
  {
   "cell_type": "code",
   "execution_count": 12,
   "id": "30acd553",
   "metadata": {
    "id": "30acd553"
   },
   "outputs": [
    {
     "name": "stdout",
     "output_type": "stream",
     "text": [
      "..\\dataset\\MATH\\test\\algebra\\1001.json\n"
     ]
    },
    {
     "data": {
      "text/plain": [
       "['..', 'dataset', 'MATH', 'test', 'algebra', '1001.json']"
      ]
     },
     "execution_count": 12,
     "metadata": {},
     "output_type": "execute_result"
    }
   ],
   "source": [
    "import os\n",
    "\n",
    "path = os.path.normpath(exercice_path[\"test\"][2])\n",
    "print(path)\n",
    "path.split(os.sep)"
   ]
  },
  {
   "cell_type": "code",
   "execution_count": 13,
   "id": "b0d605f3",
   "metadata": {
    "id": "b0d605f3",
    "outputId": "ff4cc0ab-a6e5-41d0-906d-8ae392d74380"
   },
   "outputs": [
    {
     "name": "stdout",
     "output_type": "stream",
     "text": [
      "<class 'pandas.core.frame.DataFrame'>\n",
      "RangeIndex: 12500 entries, 0 to 12499\n",
      "Data columns (total 7 columns):\n",
      " #   Column    Non-Null Count  Dtype   \n",
      "---  ------    --------------  -----   \n",
      " 0   problem   12500 non-null  object  \n",
      " 1   level     12500 non-null  object  \n",
      " 2   type      12500 non-null  category\n",
      " 3   solution  12500 non-null  object  \n",
      " 4   id        12500 non-null  object  \n",
      " 5   source    12500 non-null  object  \n",
      " 6   category  12500 non-null  int32   \n",
      "dtypes: category(1), int32(1), object(5)\n",
      "memory usage: 549.8+ KB\n"
     ]
    }
   ],
   "source": [
    "import pandas as pd\n",
    "\n",
    "exercices_df = pd.DataFrame.from_records(exercice_records).sample(frac=1).reset_index(drop=True)\n",
    "exercices_df['type'] = exercices_df['type'].astype('category')\n",
    "exercices_df[\"category\"] = exercices_df[\"type\"].cat.codes.astype('int')\n",
    "exercices_df.info()"
   ]
  },
  {
   "cell_type": "code",
   "execution_count": 14,
   "id": "1701c0ad",
   "metadata": {
    "id": "1701c0ad",
    "outputId": "c95bed11-6d76-4b0b-ea92-2a8715cafdc5"
   },
   "outputs": [
    {
     "data": {
      "text/html": [
       "<div>\n",
       "<style scoped>\n",
       "    .dataframe tbody tr th:only-of-type {\n",
       "        vertical-align: middle;\n",
       "    }\n",
       "\n",
       "    .dataframe tbody tr th {\n",
       "        vertical-align: top;\n",
       "    }\n",
       "\n",
       "    .dataframe thead th {\n",
       "        text-align: right;\n",
       "    }\n",
       "</style>\n",
       "<table border=\"1\" class=\"dataframe\">\n",
       "  <thead>\n",
       "    <tr style=\"text-align: right;\">\n",
       "      <th></th>\n",
       "      <th>problem</th>\n",
       "      <th>level</th>\n",
       "      <th>type</th>\n",
       "      <th>solution</th>\n",
       "      <th>id</th>\n",
       "      <th>source</th>\n",
       "      <th>category</th>\n",
       "    </tr>\n",
       "  </thead>\n",
       "  <tbody>\n",
       "    <tr>\n",
       "      <th>0</th>\n",
       "      <td>The points $(x, y)$ represented in this table ...</td>\n",
       "      <td>Level 5</td>\n",
       "      <td>Algebra</td>\n",
       "      <td>If we have two points $(x_1,y_1)$ and $(x_2,y_...</td>\n",
       "      <td>algebra_1071</td>\n",
       "      <td>test</td>\n",
       "      <td>0</td>\n",
       "    </tr>\n",
       "    <tr>\n",
       "      <th>1</th>\n",
       "      <td>Consider the function $f(x) = x^2 +2\\sqrt{x}$....</td>\n",
       "      <td>Level 4</td>\n",
       "      <td>Algebra</td>\n",
       "      <td>We have $f(2) = 2^2 + 2\\sqrt{2} = 4 + 2\\sqrt{2...</td>\n",
       "      <td>algebra_2355</td>\n",
       "      <td>train</td>\n",
       "      <td>0</td>\n",
       "    </tr>\n",
       "    <tr>\n",
       "      <th>2</th>\n",
       "      <td>If the system of equations\\n\\n\\begin{align*}\\n...</td>\n",
       "      <td>Level 4</td>\n",
       "      <td>Algebra</td>\n",
       "      <td>If we multiply the first equation by $-\\frac{3...</td>\n",
       "      <td>algebra_1951</td>\n",
       "      <td>train</td>\n",
       "      <td>0</td>\n",
       "    </tr>\n",
       "    <tr>\n",
       "      <th>3</th>\n",
       "      <td>Let $n$ be a  positive integer and $a$ be an i...</td>\n",
       "      <td>Level 3</td>\n",
       "      <td>Number Theory</td>\n",
       "      <td>Since $a$ is its own inverse modulo $n$, $a\\eq...</td>\n",
       "      <td>number_theory_213</td>\n",
       "      <td>train</td>\n",
       "      <td>4</td>\n",
       "    </tr>\n",
       "    <tr>\n",
       "      <th>4</th>\n",
       "      <td>If \\[\\frac{x}{y} = \\frac{4}{5}, \\; \\frac{y}{z}...</td>\n",
       "      <td>Level 5</td>\n",
       "      <td>Algebra</td>\n",
       "      <td>If we multiply the first two fractions, we can...</td>\n",
       "      <td>algebra_2285</td>\n",
       "      <td>test</td>\n",
       "      <td>0</td>\n",
       "    </tr>\n",
       "    <tr>\n",
       "      <th>...</th>\n",
       "      <td>...</td>\n",
       "      <td>...</td>\n",
       "      <td>...</td>\n",
       "      <td>...</td>\n",
       "      <td>...</td>\n",
       "      <td>...</td>\n",
       "      <td>...</td>\n",
       "    </tr>\n",
       "    <tr>\n",
       "      <th>12495</th>\n",
       "      <td>Evaluate\\n\\[i^{14762} + i^{14763} + i^{14764} ...</td>\n",
       "      <td>Level 1</td>\n",
       "      <td>Intermediate Algebra</td>\n",
       "      <td>We can take out a factor of $i^{14762}$ to get...</td>\n",
       "      <td>intermediate_algebra_656</td>\n",
       "      <td>train</td>\n",
       "      <td>3</td>\n",
       "    </tr>\n",
       "    <tr>\n",
       "      <th>12496</th>\n",
       "      <td>Find the sum of $111_4+323_4+132_4$. Express y...</td>\n",
       "      <td>Level 3</td>\n",
       "      <td>Number Theory</td>\n",
       "      <td>Since $1_4+3_4+2_4=12_4$, we carry over the $1...</td>\n",
       "      <td>number_theory_518</td>\n",
       "      <td>train</td>\n",
       "      <td>4</td>\n",
       "    </tr>\n",
       "    <tr>\n",
       "      <th>12497</th>\n",
       "      <td>Find the number of integers in the range of th...</td>\n",
       "      <td>Level 2</td>\n",
       "      <td>Precalculus</td>\n",
       "      <td>For the function to be defined, we must have $...</td>\n",
       "      <td>precalculus_652</td>\n",
       "      <td>test</td>\n",
       "      <td>6</td>\n",
       "    </tr>\n",
       "    <tr>\n",
       "      <th>12498</th>\n",
       "      <td>What is the largest perfect square factor of 1...</td>\n",
       "      <td>Level 3</td>\n",
       "      <td>Number Theory</td>\n",
       "      <td>Let's find the prime factorization of 1512: $1...</td>\n",
       "      <td>number_theory_1294</td>\n",
       "      <td>train</td>\n",
       "      <td>4</td>\n",
       "    </tr>\n",
       "    <tr>\n",
       "      <th>12499</th>\n",
       "      <td>Let $\\mathbf{p}$ and $\\mathbf{q}$ be two three...</td>\n",
       "      <td>Level 5</td>\n",
       "      <td>Precalculus</td>\n",
       "      <td>Suppose that vectors $\\mathbf{a}$ and $\\mathbf...</td>\n",
       "      <td>precalculus_1296</td>\n",
       "      <td>train</td>\n",
       "      <td>6</td>\n",
       "    </tr>\n",
       "  </tbody>\n",
       "</table>\n",
       "<p>12500 rows × 7 columns</p>\n",
       "</div>"
      ],
      "text/plain": [
       "                                                 problem    level  \\\n",
       "0      The points $(x, y)$ represented in this table ...  Level 5   \n",
       "1      Consider the function $f(x) = x^2 +2\\sqrt{x}$....  Level 4   \n",
       "2      If the system of equations\\n\\n\\begin{align*}\\n...  Level 4   \n",
       "3      Let $n$ be a  positive integer and $a$ be an i...  Level 3   \n",
       "4      If \\[\\frac{x}{y} = \\frac{4}{5}, \\; \\frac{y}{z}...  Level 5   \n",
       "...                                                  ...      ...   \n",
       "12495  Evaluate\\n\\[i^{14762} + i^{14763} + i^{14764} ...  Level 1   \n",
       "12496  Find the sum of $111_4+323_4+132_4$. Express y...  Level 3   \n",
       "12497  Find the number of integers in the range of th...  Level 2   \n",
       "12498  What is the largest perfect square factor of 1...  Level 3   \n",
       "12499  Let $\\mathbf{p}$ and $\\mathbf{q}$ be two three...  Level 5   \n",
       "\n",
       "                       type  \\\n",
       "0                   Algebra   \n",
       "1                   Algebra   \n",
       "2                   Algebra   \n",
       "3             Number Theory   \n",
       "4                   Algebra   \n",
       "...                     ...   \n",
       "12495  Intermediate Algebra   \n",
       "12496         Number Theory   \n",
       "12497           Precalculus   \n",
       "12498         Number Theory   \n",
       "12499           Precalculus   \n",
       "\n",
       "                                                solution  \\\n",
       "0      If we have two points $(x_1,y_1)$ and $(x_2,y_...   \n",
       "1      We have $f(2) = 2^2 + 2\\sqrt{2} = 4 + 2\\sqrt{2...   \n",
       "2      If we multiply the first equation by $-\\frac{3...   \n",
       "3      Since $a$ is its own inverse modulo $n$, $a\\eq...   \n",
       "4      If we multiply the first two fractions, we can...   \n",
       "...                                                  ...   \n",
       "12495  We can take out a factor of $i^{14762}$ to get...   \n",
       "12496  Since $1_4+3_4+2_4=12_4$, we carry over the $1...   \n",
       "12497  For the function to be defined, we must have $...   \n",
       "12498  Let's find the prime factorization of 1512: $1...   \n",
       "12499  Suppose that vectors $\\mathbf{a}$ and $\\mathbf...   \n",
       "\n",
       "                             id source  category  \n",
       "0                  algebra_1071   test         0  \n",
       "1                  algebra_2355  train         0  \n",
       "2                  algebra_1951  train         0  \n",
       "3             number_theory_213  train         4  \n",
       "4                  algebra_2285   test         0  \n",
       "...                         ...    ...       ...  \n",
       "12495  intermediate_algebra_656  train         3  \n",
       "12496         number_theory_518  train         4  \n",
       "12497           precalculus_652   test         6  \n",
       "12498        number_theory_1294  train         4  \n",
       "12499          precalculus_1296  train         6  \n",
       "\n",
       "[12500 rows x 7 columns]"
      ]
     },
     "execution_count": 14,
     "metadata": {},
     "output_type": "execute_result"
    }
   ],
   "source": [
    "exercices_df"
   ]
  },
  {
   "cell_type": "code",
   "execution_count": 18,
   "id": "d9464ac6",
   "metadata": {},
   "outputs": [
    {
     "data": {
      "text/html": [
       "<div>\n",
       "<style scoped>\n",
       "    .dataframe tbody tr th:only-of-type {\n",
       "        vertical-align: middle;\n",
       "    }\n",
       "\n",
       "    .dataframe tbody tr th {\n",
       "        vertical-align: top;\n",
       "    }\n",
       "\n",
       "    .dataframe thead th {\n",
       "        text-align: right;\n",
       "    }\n",
       "</style>\n",
       "<table border=\"1\" class=\"dataframe\">\n",
       "  <thead>\n",
       "    <tr style=\"text-align: right;\">\n",
       "      <th></th>\n",
       "      <th>count</th>\n",
       "      <th>pct</th>\n",
       "    </tr>\n",
       "  </thead>\n",
       "  <tbody>\n",
       "    <tr>\n",
       "      <th>Algebra</th>\n",
       "      <td>2931</td>\n",
       "      <td>23.4</td>\n",
       "    </tr>\n",
       "    <tr>\n",
       "      <th>Intermediate Algebra</th>\n",
       "      <td>2198</td>\n",
       "      <td>17.6</td>\n",
       "    </tr>\n",
       "    <tr>\n",
       "      <th>Prealgebra</th>\n",
       "      <td>2076</td>\n",
       "      <td>16.6</td>\n",
       "    </tr>\n",
       "    <tr>\n",
       "      <th>Number Theory</th>\n",
       "      <td>1409</td>\n",
       "      <td>11.3</td>\n",
       "    </tr>\n",
       "    <tr>\n",
       "      <th>Geometry</th>\n",
       "      <td>1349</td>\n",
       "      <td>10.8</td>\n",
       "    </tr>\n",
       "    <tr>\n",
       "      <th>Precalculus</th>\n",
       "      <td>1292</td>\n",
       "      <td>10.3</td>\n",
       "    </tr>\n",
       "    <tr>\n",
       "      <th>Counting &amp; Probability</th>\n",
       "      <td>1245</td>\n",
       "      <td>10.0</td>\n",
       "    </tr>\n",
       "  </tbody>\n",
       "</table>\n",
       "</div>"
      ],
      "text/plain": [
       "                        count   pct\n",
       "Algebra                  2931  23.4\n",
       "Intermediate Algebra     2198  17.6\n",
       "Prealgebra               2076  16.6\n",
       "Number Theory            1409  11.3\n",
       "Geometry                 1349  10.8\n",
       "Precalculus              1292  10.3\n",
       "Counting & Probability   1245  10.0"
      ]
     },
     "execution_count": 18,
     "metadata": {},
     "output_type": "execute_result"
    }
   ],
   "source": [
    "pd.DataFrame({\"count\": exercices_df[\"type\"].value_counts(),\n",
    "    \"pct\": (exercices_df[\"type\"].value_counts(normalize=True).values*100).round(1)},\n",
    "    index=exercices_df[\"type\"].value_counts(normalize=True).index)\n",
    "#exercices_df[\"type\"].value_counts().values.sum(), (exercices_df[\"type\"].value_counts(normalize=True).values*100).round(1).sum()"
   ]
  },
  {
   "cell_type": "code",
   "execution_count": 20,
   "id": "50b0e689",
   "metadata": {
    "id": "50b0e689",
    "outputId": "5ac6a920-0655-47db-fc0e-e7286d095a81",
    "scrolled": true
   },
   "outputs": [
    {
     "data": {
      "text/plain": [
       "Algebra                   0.23448\n",
       "Intermediate Algebra      0.17584\n",
       "Prealgebra                0.16608\n",
       "Number Theory             0.11272\n",
       "Geometry                  0.10792\n",
       "Precalculus               0.10336\n",
       "Counting & Probability    0.09960\n",
       "Name: type, dtype: float64"
      ]
     },
     "execution_count": 20,
     "metadata": {},
     "output_type": "execute_result"
    }
   ],
   "source": [
    "exercices_df[\"type\"].value_counts(normalize=True)"
   ]
  },
  {
   "cell_type": "code",
   "execution_count": 21,
   "id": "b2d1c607",
   "metadata": {
    "id": "b2d1c607",
    "outputId": "48666c60-4965-48cb-c30b-7cb8dd4de5e9"
   },
   "outputs": [
    {
     "data": {
      "text/plain": [
       "0    0.23448\n",
       "3    0.17584\n",
       "5    0.16608\n",
       "4    0.11272\n",
       "2    0.10792\n",
       "6    0.10336\n",
       "1    0.09960\n",
       "Name: category, dtype: float64"
      ]
     },
     "execution_count": 21,
     "metadata": {},
     "output_type": "execute_result"
    }
   ],
   "source": [
    "exercices_df[\"category\"].value_counts(normalize=True)"
   ]
  },
  {
   "cell_type": "code",
   "execution_count": 22,
   "id": "ee9ca712",
   "metadata": {},
   "outputs": [
    {
     "data": {
      "text/html": [
       "<div>\n",
       "<style scoped>\n",
       "    .dataframe tbody tr th:only-of-type {\n",
       "        vertical-align: middle;\n",
       "    }\n",
       "\n",
       "    .dataframe tbody tr th {\n",
       "        vertical-align: top;\n",
       "    }\n",
       "\n",
       "    .dataframe thead th {\n",
       "        text-align: right;\n",
       "    }\n",
       "</style>\n",
       "<table border=\"1\" class=\"dataframe\">\n",
       "  <thead>\n",
       "    <tr style=\"text-align: right;\">\n",
       "      <th></th>\n",
       "      <th>count</th>\n",
       "      <th>pct</th>\n",
       "    </tr>\n",
       "  </thead>\n",
       "  <tbody>\n",
       "    <tr>\n",
       "      <th>Level 5</th>\n",
       "      <td>3628</td>\n",
       "      <td>29.0</td>\n",
       "    </tr>\n",
       "    <tr>\n",
       "      <th>Level 4</th>\n",
       "      <td>2904</td>\n",
       "      <td>23.2</td>\n",
       "    </tr>\n",
       "    <tr>\n",
       "      <th>Level 3</th>\n",
       "      <td>2723</td>\n",
       "      <td>21.8</td>\n",
       "    </tr>\n",
       "    <tr>\n",
       "      <th>Level 2</th>\n",
       "      <td>2242</td>\n",
       "      <td>17.9</td>\n",
       "    </tr>\n",
       "    <tr>\n",
       "      <th>Level 1</th>\n",
       "      <td>1001</td>\n",
       "      <td>8.0</td>\n",
       "    </tr>\n",
       "    <tr>\n",
       "      <th>Level ?</th>\n",
       "      <td>2</td>\n",
       "      <td>0.0</td>\n",
       "    </tr>\n",
       "  </tbody>\n",
       "</table>\n",
       "</div>"
      ],
      "text/plain": [
       "         count   pct\n",
       "Level 5   3628  29.0\n",
       "Level 4   2904  23.2\n",
       "Level 3   2723  21.8\n",
       "Level 2   2242  17.9\n",
       "Level 1   1001   8.0\n",
       "Level ?      2   0.0"
      ]
     },
     "execution_count": 22,
     "metadata": {},
     "output_type": "execute_result"
    }
   ],
   "source": [
    "pd.DataFrame({\"count\": exercices_df[\"level\"].value_counts(),\n",
    "    \"pct\": (exercices_df[\"level\"].value_counts(normalize=True).values*100).round(1)},\n",
    "    index=exercices_df[\"level\"].value_counts(normalize=True).index)\n",
    "#exercices_df[\"level\"].value_counts().values.sum(), (exercices_df[\"level\"].value_counts(normalize=True).values*100).round(1).sum()"
   ]
  },
  {
   "cell_type": "code",
   "execution_count": 23,
   "id": "2ad46e95",
   "metadata": {
    "id": "2ad46e95",
    "outputId": "6d681dfa-5935-431a-ff52-faa3d97aff38"
   },
   "outputs": [
    {
     "data": {
      "text/plain": [
       "Level 5    0.29024\n",
       "Level 4    0.23232\n",
       "Level 3    0.21784\n",
       "Level 2    0.17936\n",
       "Level 1    0.08008\n",
       "Level ?    0.00016\n",
       "Name: level, dtype: float64"
      ]
     },
     "execution_count": 23,
     "metadata": {},
     "output_type": "execute_result"
    }
   ],
   "source": [
    "exercices_df[\"level\"].value_counts(normalize=True)"
   ]
  },
  {
   "cell_type": "code",
   "execution_count": 24,
   "id": "21ebf317",
   "metadata": {
    "id": "21ebf317"
   },
   "outputs": [],
   "source": [
    "from sklearn.model_selection import train_test_split\n",
    "\n",
    "train, test = train_test_split(exercices_df, test_size=2500, stratify=exercices_df[['category', \"level\"]])"
   ]
  },
  {
   "cell_type": "code",
   "execution_count": 25,
   "id": "4f2171c5",
   "metadata": {
    "id": "4f2171c5",
    "outputId": "15feb563-3daf-4910-f848-ec750fc1130b"
   },
   "outputs": [
    {
     "data": {
      "text/plain": [
       "0    0.2344\n",
       "3    0.1758\n",
       "5    0.1661\n",
       "4    0.1127\n",
       "2    0.1080\n",
       "6    0.1034\n",
       "1    0.0996\n",
       "Name: category, dtype: float64"
      ]
     },
     "execution_count": 25,
     "metadata": {},
     "output_type": "execute_result"
    }
   ],
   "source": [
    "train[\"category\"].value_counts(normalize=True)"
   ]
  },
  {
   "cell_type": "code",
   "execution_count": 26,
   "id": "8499cd52",
   "metadata": {
    "id": "8499cd52",
    "outputId": "34c78a61-fe6e-4391-bf65-3b9b3edf3c81"
   },
   "outputs": [
    {
     "data": {
      "text/plain": [
       "0    0.2348\n",
       "3    0.1760\n",
       "5    0.1660\n",
       "4    0.1128\n",
       "2    0.1076\n",
       "6    0.1032\n",
       "1    0.0996\n",
       "Name: category, dtype: float64"
      ]
     },
     "execution_count": 26,
     "metadata": {},
     "output_type": "execute_result"
    }
   ],
   "source": [
    "test[\"category\"].value_counts(normalize=True)"
   ]
  },
  {
   "cell_type": "code",
   "execution_count": 27,
   "id": "ca66a9a1",
   "metadata": {
    "id": "ca66a9a1",
    "outputId": "81def3a6-92bf-4338-b5ff-fc3f7729194f"
   },
   "outputs": [
    {
     "data": {
      "text/plain": [
       "Level 5    0.2902\n",
       "Level 4    0.2323\n",
       "Level 3    0.2178\n",
       "Level 2    0.1794\n",
       "Level 1    0.0801\n",
       "Level ?    0.0002\n",
       "Name: level, dtype: float64"
      ]
     },
     "execution_count": 27,
     "metadata": {},
     "output_type": "execute_result"
    }
   ],
   "source": [
    "train[\"level\"].value_counts(normalize=True)"
   ]
  },
  {
   "cell_type": "code",
   "execution_count": 28,
   "id": "38203a7a",
   "metadata": {
    "id": "38203a7a",
    "outputId": "7d200871-6ac7-45aa-99ef-d2fd2796fb98"
   },
   "outputs": [
    {
     "data": {
      "text/plain": [
       "Level 5    0.2904\n",
       "Level 4    0.2324\n",
       "Level 3    0.2180\n",
       "Level 2    0.1792\n",
       "Level 1    0.0800\n",
       "Name: level, dtype: float64"
      ]
     },
     "execution_count": 28,
     "metadata": {},
     "output_type": "execute_result"
    }
   ],
   "source": [
    "test[\"level\"].value_counts(normalize=True)"
   ]
  },
  {
   "cell_type": "code",
   "execution_count": 29,
   "id": "cd546de0",
   "metadata": {
    "id": "cd546de0"
   },
   "outputs": [],
   "source": [
    "train = train.reset_index(drop=True)\n",
    "test = test.reset_index(drop=True)"
   ]
  },
  {
   "cell_type": "code",
   "execution_count": 30,
   "id": "1f195f12",
   "metadata": {
    "id": "1f195f12",
    "outputId": "ca12162e-ecb6-4598-d02c-ad227e9d2acb"
   },
   "outputs": [
    {
     "data": {
      "text/html": [
       "<div>\n",
       "<style scoped>\n",
       "    .dataframe tbody tr th:only-of-type {\n",
       "        vertical-align: middle;\n",
       "    }\n",
       "\n",
       "    .dataframe tbody tr th {\n",
       "        vertical-align: top;\n",
       "    }\n",
       "\n",
       "    .dataframe thead th {\n",
       "        text-align: right;\n",
       "    }\n",
       "</style>\n",
       "<table border=\"1\" class=\"dataframe\">\n",
       "  <thead>\n",
       "    <tr style=\"text-align: right;\">\n",
       "      <th></th>\n",
       "      <th>problem</th>\n",
       "      <th>level</th>\n",
       "      <th>type</th>\n",
       "      <th>solution</th>\n",
       "      <th>id</th>\n",
       "      <th>source</th>\n",
       "      <th>category</th>\n",
       "    </tr>\n",
       "  </thead>\n",
       "  <tbody>\n",
       "    <tr>\n",
       "      <th>0</th>\n",
       "      <td>What is the reciprocal of $0.\\overline{714285}...</td>\n",
       "      <td>Level 5</td>\n",
       "      <td>Prealgebra</td>\n",
       "      <td>Let's first convert $0.\\overline{714285}$ to a...</td>\n",
       "      <td>prealgebra_1148</td>\n",
       "      <td>test</td>\n",
       "      <td>5</td>\n",
       "    </tr>\n",
       "    <tr>\n",
       "      <th>1</th>\n",
       "      <td>Given that $\\cos a = \\frac{1}{3}$ and $\\cos b ...</td>\n",
       "      <td>Level 3</td>\n",
       "      <td>Precalculus</td>\n",
       "      <td>By product-to-sum,\\n\\[\\cos (a + b) \\cos (a - b...</td>\n",
       "      <td>precalculus_732</td>\n",
       "      <td>test</td>\n",
       "      <td>6</td>\n",
       "    </tr>\n",
       "    <tr>\n",
       "      <th>2</th>\n",
       "      <td>If $a$ and $b$ are integers with $a &gt; b$, what...</td>\n",
       "      <td>Level 5</td>\n",
       "      <td>Algebra</td>\n",
       "      <td>Let $x = \\frac{a+b}{a-b}$. Then, $\\frac{a-b}{a...</td>\n",
       "      <td>algebra_595</td>\n",
       "      <td>train</td>\n",
       "      <td>0</td>\n",
       "    </tr>\n",
       "    <tr>\n",
       "      <th>3</th>\n",
       "      <td>Two numbers are said to be 'relatively prime' ...</td>\n",
       "      <td>Level 5</td>\n",
       "      <td>Prealgebra</td>\n",
       "      <td>Since $28=2^2\\cdot 7$, a positive integer is r...</td>\n",
       "      <td>prealgebra_1419</td>\n",
       "      <td>test</td>\n",
       "      <td>5</td>\n",
       "    </tr>\n",
       "    <tr>\n",
       "      <th>4</th>\n",
       "      <td>How many positive integers are less than $200\\...</td>\n",
       "      <td>Level 2</td>\n",
       "      <td>Prealgebra</td>\n",
       "      <td>Based on our knowledge of the decimal expansio...</td>\n",
       "      <td>prealgebra_1891</td>\n",
       "      <td>test</td>\n",
       "      <td>5</td>\n",
       "    </tr>\n",
       "    <tr>\n",
       "      <th>...</th>\n",
       "      <td>...</td>\n",
       "      <td>...</td>\n",
       "      <td>...</td>\n",
       "      <td>...</td>\n",
       "      <td>...</td>\n",
       "      <td>...</td>\n",
       "      <td>...</td>\n",
       "    </tr>\n",
       "    <tr>\n",
       "      <th>2495</th>\n",
       "      <td>Define the function $f(x) = 2x - 5$. For what ...</td>\n",
       "      <td>Level 4</td>\n",
       "      <td>Algebra</td>\n",
       "      <td>Substituting $f^{-1}(x)$ into our expression f...</td>\n",
       "      <td>algebra_1450</td>\n",
       "      <td>train</td>\n",
       "      <td>0</td>\n",
       "    </tr>\n",
       "    <tr>\n",
       "      <th>2496</th>\n",
       "      <td>One-half of one-seventh of $T$ equals one-thir...</td>\n",
       "      <td>Level 3</td>\n",
       "      <td>Prealgebra</td>\n",
       "      <td>From the problem, we write the equation \\[\\fra...</td>\n",
       "      <td>prealgebra_495</td>\n",
       "      <td>train</td>\n",
       "      <td>5</td>\n",
       "    </tr>\n",
       "    <tr>\n",
       "      <th>2497</th>\n",
       "      <td>Mr. Madoff invests 1000 dollars in a fund that...</td>\n",
       "      <td>Level 4</td>\n",
       "      <td>Algebra</td>\n",
       "      <td>Let $r$ be the annual interest rate.  Then aft...</td>\n",
       "      <td>algebra_1014</td>\n",
       "      <td>test</td>\n",
       "      <td>0</td>\n",
       "    </tr>\n",
       "    <tr>\n",
       "      <th>2498</th>\n",
       "      <td>The volume of a cylinder is 60 cubic centimete...</td>\n",
       "      <td>Level 5</td>\n",
       "      <td>Geometry</td>\n",
       "      <td>We begin by drawing a diagram: [asy]\\nimport s...</td>\n",
       "      <td>geometry_582</td>\n",
       "      <td>test</td>\n",
       "      <td>2</td>\n",
       "    </tr>\n",
       "    <tr>\n",
       "      <th>2499</th>\n",
       "      <td>What is the coefficient of $x^2y^2$ in the exp...</td>\n",
       "      <td>Level 4</td>\n",
       "      <td>Counting &amp; Probability</td>\n",
       "      <td>To find the coefficient of $x^2y^2$, we can fi...</td>\n",
       "      <td>counting_and_probability_407</td>\n",
       "      <td>test</td>\n",
       "      <td>1</td>\n",
       "    </tr>\n",
       "  </tbody>\n",
       "</table>\n",
       "<p>2500 rows × 7 columns</p>\n",
       "</div>"
      ],
      "text/plain": [
       "                                                problem    level  \\\n",
       "0     What is the reciprocal of $0.\\overline{714285}...  Level 5   \n",
       "1     Given that $\\cos a = \\frac{1}{3}$ and $\\cos b ...  Level 3   \n",
       "2     If $a$ and $b$ are integers with $a > b$, what...  Level 5   \n",
       "3     Two numbers are said to be 'relatively prime' ...  Level 5   \n",
       "4     How many positive integers are less than $200\\...  Level 2   \n",
       "...                                                 ...      ...   \n",
       "2495  Define the function $f(x) = 2x - 5$. For what ...  Level 4   \n",
       "2496  One-half of one-seventh of $T$ equals one-thir...  Level 3   \n",
       "2497  Mr. Madoff invests 1000 dollars in a fund that...  Level 4   \n",
       "2498  The volume of a cylinder is 60 cubic centimete...  Level 5   \n",
       "2499  What is the coefficient of $x^2y^2$ in the exp...  Level 4   \n",
       "\n",
       "                        type  \\\n",
       "0                 Prealgebra   \n",
       "1                Precalculus   \n",
       "2                    Algebra   \n",
       "3                 Prealgebra   \n",
       "4                 Prealgebra   \n",
       "...                      ...   \n",
       "2495                 Algebra   \n",
       "2496              Prealgebra   \n",
       "2497                 Algebra   \n",
       "2498                Geometry   \n",
       "2499  Counting & Probability   \n",
       "\n",
       "                                               solution  \\\n",
       "0     Let's first convert $0.\\overline{714285}$ to a...   \n",
       "1     By product-to-sum,\\n\\[\\cos (a + b) \\cos (a - b...   \n",
       "2     Let $x = \\frac{a+b}{a-b}$. Then, $\\frac{a-b}{a...   \n",
       "3     Since $28=2^2\\cdot 7$, a positive integer is r...   \n",
       "4     Based on our knowledge of the decimal expansio...   \n",
       "...                                                 ...   \n",
       "2495  Substituting $f^{-1}(x)$ into our expression f...   \n",
       "2496  From the problem, we write the equation \\[\\fra...   \n",
       "2497  Let $r$ be the annual interest rate.  Then aft...   \n",
       "2498  We begin by drawing a diagram: [asy]\\nimport s...   \n",
       "2499  To find the coefficient of $x^2y^2$, we can fi...   \n",
       "\n",
       "                                id source  category  \n",
       "0                  prealgebra_1148   test         5  \n",
       "1                  precalculus_732   test         6  \n",
       "2                      algebra_595  train         0  \n",
       "3                  prealgebra_1419   test         5  \n",
       "4                  prealgebra_1891   test         5  \n",
       "...                            ...    ...       ...  \n",
       "2495                  algebra_1450  train         0  \n",
       "2496                prealgebra_495  train         5  \n",
       "2497                  algebra_1014   test         0  \n",
       "2498                  geometry_582   test         2  \n",
       "2499  counting_and_probability_407   test         1  \n",
       "\n",
       "[2500 rows x 7 columns]"
      ]
     },
     "execution_count": 30,
     "metadata": {},
     "output_type": "execute_result"
    }
   ],
   "source": [
    "test"
   ]
  },
  {
   "cell_type": "code",
   "execution_count": 31,
   "id": "70f43d28",
   "metadata": {
    "id": "70f43d28"
   },
   "outputs": [],
   "source": [
    "train.to_parquet(\"../dataset/train_math_exercice.parquet\")\n",
    "test.to_parquet(\"../dataset/test_math_exercice.parquet\")"
   ]
  },
  {
   "cell_type": "code",
   "execution_count": null,
   "id": "8660ea17",
   "metadata": {
    "id": "8660ea17"
   },
   "outputs": [],
   "source": []
  }
 ],
 "metadata": {
  "colab": {
   "provenance": []
  },
  "kernelspec": {
   "display_name": "Python 3 (ipykernel)",
   "language": "python",
   "name": "python3"
  },
  "language_info": {
   "codemirror_mode": {
    "name": "ipython",
    "version": 3
   },
   "file_extension": ".py",
   "mimetype": "text/x-python",
   "name": "python",
   "nbconvert_exporter": "python",
   "pygments_lexer": "ipython3",
   "version": "3.11.3"
  }
 },
 "nbformat": 4,
 "nbformat_minor": 5
}
